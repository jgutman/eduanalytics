{
 "cells": [
  {
   "cell_type": "markdown",
   "metadata": {},
   "source": [
    "# Imports"
   ]
  },
  {
   "cell_type": "code",
   "execution_count": 1,
   "metadata": {
    "collapsed": true
   },
   "outputs": [],
   "source": [
    "from eduanalytics import lime"
   ]
  },
  {
   "cell_type": "code",
   "execution_count": 19,
   "metadata": {
    "collapsed": true
   },
   "outputs": [],
   "source": [
    "from sklearn import metrics\n",
    "from sklearn.preprocessing import LabelBinarizer"
   ]
  },
  {
   "cell_type": "markdown",
   "metadata": {},
   "source": [
    "# Get explanations from model"
   ]
  },
  {
   "cell_type": "code",
   "execution_count": 9,
   "metadata": {
    "collapsed": true
   },
   "outputs": [],
   "source": [
    "tbl_name = 'screener_scores_admissions'"
   ]
  },
  {
   "cell_type": "code",
   "execution_count": 11,
   "metadata": {
    "collapsed": false
   },
   "outputs": [],
   "source": [
    "grid_search, data, results = lime.load_model_and_results(tbl_name)\n",
    "encoder, imputer, forest = lime.get_components_from_model(grid_search)"
   ]
  },
  {
   "cell_type": "code",
   "execution_count": 20,
   "metadata": {
    "collapsed": false
   },
   "outputs": [
    {
     "data": {
      "text/plain": [
       "0.93836589541401683"
      ]
     },
     "execution_count": 20,
     "metadata": {},
     "output_type": "execute_result"
    }
   ],
   "source": [
    "risk_scores = results[['predicted_0', 'predicted_1', 'predicted_2']].as_matrix()\n",
    "outcomes = LabelBinarizer().fit_transform(results.outcome)\n",
    "metrics.roc_auc_score(outcomes, risk_scores)"
   ]
  },
  {
   "cell_type": "code",
   "execution_count": 21,
   "metadata": {
    "collapsed": false
   },
   "outputs": [],
   "source": [
    "train, test = lime.split_data_and_results(data, results)"
   ]
  },
  {
   "cell_type": "code",
   "execution_count": 42,
   "metadata": {
    "collapsed": true
   },
   "outputs": [],
   "source": [
    "test.X.race.loc['6cfc566dab0ae33517298a1dc382a619'] = 'Native Hawaiian'"
   ]
  },
  {
   "cell_type": "code",
   "execution_count": 43,
   "metadata": {
    "collapsed": true
   },
   "outputs": [],
   "source": [
    "class_labels = ['invite', 'hold', 'reject']"
   ]
  },
  {
   "cell_type": "code",
   "execution_count": 44,
   "metadata": {
    "collapsed": false
   },
   "outputs": [],
   "source": [
    "encoded_data, explainer, categorical = lime.build_explainer(\n",
    "    train.X, test.X, imputer, encoder, class_labels)"
   ]
  },
  {
   "cell_type": "code",
   "execution_count": 55,
   "metadata": {
    "collapsed": false
   },
   "outputs": [
    {
     "data": {
      "text/plain": [
       "['American Indian or Alaskan Native',\n",
       " 'Asian',\n",
       " 'Black or African American',\n",
       " 'Chinese',\n",
       " 'Filipino',\n",
       " 'Guamanian',\n",
       " 'Japanese',\n",
       " 'Korean',\n",
       " 'Native Hawaiian',\n",
       " 'Native Hawaiian or Other Pacific Islander',\n",
       " 'Other',\n",
       " 'Other Asian',\n",
       " 'Other Pacific Islander',\n",
       " 'Pakistani',\n",
       " 'Samoan',\n",
       " 'Vietnamese',\n",
       " 'White',\n",
       " 'nan']"
      ]
     },
     "execution_count": 55,
     "metadata": {},
     "output_type": "execute_result"
    }
   ],
   "source": [
    "categorical.mapping[53] = categorical.mapping[53].remove['Native Hawaiian or Other Pacific Islander]"
   ]
  },
  {
   "cell_type": "code",
   "execution_count": 67,
   "metadata": {
    "collapsed": false
   },
   "outputs": [
    {
     "ename": "TypeError",
     "evalue": "'str' object cannot be interpreted as an integer",
     "output_type": "error",
     "traceback": [
      "\u001b[0;31m---------------------------------------------------------------------------\u001b[0m",
      "\u001b[0;31mTypeError\u001b[0m                                 Traceback (most recent call last)",
      "\u001b[0;32m<ipython-input-67-a196e20290e0>\u001b[0m in \u001b[0;36m<module>\u001b[0;34m()\u001b[0m\n\u001b[0;32m----> 1\u001b[0;31m \u001b[0mcategorical\u001b[0m\u001b[0;34m.\u001b[0m\u001b[0mmapping\u001b[0m\u001b[0;34m.\u001b[0m\u001b[0mget\u001b[0m\u001b[0;34m(\u001b[0m\u001b[0;36m53\u001b[0m\u001b[0;34m)\u001b[0m\u001b[0;34m.\u001b[0m\u001b[0mpop\u001b[0m\u001b[0;34m(\u001b[0m\u001b[0;34m'Native Hawaiian or Other Pacific Islander'\u001b[0m\u001b[0;34m)\u001b[0m\u001b[0;34m\u001b[0m\u001b[0m\n\u001b[0m",
      "\u001b[0;31mTypeError\u001b[0m: 'str' object cannot be interpreted as an integer"
     ]
    }
   ],
   "source": [
    "categorical.mapping.get(53).pop('Native Hawaiian or Other Pacific Islander')"
   ]
  },
  {
   "cell_type": "code",
   "execution_count": 61,
   "metadata": {
    "collapsed": false
   },
   "outputs": [
    {
     "data": {
      "text/plain": [
       "['American Indian or Alaskan Native',\n",
       " 'Asian',\n",
       " 'Black or African American',\n",
       " 'Chinese',\n",
       " 'Filipino',\n",
       " 'Guamanian',\n",
       " 'Japanese',\n",
       " 'Korean',\n",
       " 'Native Hawaiian',\n",
       " 'Native Hawaiian or Other Pacific Islander',\n",
       " 'Other',\n",
       " 'Other Asian',\n",
       " 'Other Pacific Islander',\n",
       " 'Pakistani',\n",
       " 'Samoan',\n",
       " 'Vietnamese',\n",
       " 'White',\n",
       " 'nan']"
      ]
     },
     "execution_count": 61,
     "metadata": {},
     "output_type": "execute_result"
    }
   ],
   "source": [
    "categorical.mapping[53]"
   ]
  },
  {
   "cell_type": "code",
   "execution_count": 45,
   "metadata": {
    "collapsed": false
   },
   "outputs": [
    {
     "ename": "ValueError",
     "evalue": "Number of features of the model must match the input. Model n_features is 86 and input n_features is 85 ",
     "output_type": "error",
     "traceback": [
      "\u001b[0;31m---------------------------------------------------------------------------\u001b[0m",
      "\u001b[0;31mValueError\u001b[0m                                Traceback (most recent call last)",
      "\u001b[0;32m<ipython-input-45-fd70ceb89dd2>\u001b[0m in \u001b[0;36m<module>\u001b[0;34m()\u001b[0m\n\u001b[1;32m      1\u001b[0m \u001b[0mid\u001b[0m \u001b[0;34m=\u001b[0m \u001b[0;34m'0364cd1082de674d5358fa4f7446c682'\u001b[0m\u001b[0;34m\u001b[0m\u001b[0m\n\u001b[1;32m      2\u001b[0m lime.explain_instance(id, encoded_data, explainer, \n\u001b[0;32m----> 3\u001b[0;31m     categorical, forest, n_features = 5)\n\u001b[0m",
      "\u001b[0;32m/Users/gutmaj03/Desktop/Box Sync/IIME/Admissions/eduanalytics/lime.py\u001b[0m in \u001b[0;36mexplain_instance\u001b[0;34m(id, dataset, explainer, categorical, forest, n_features)\u001b[0m\n\u001b[1;32m    148\u001b[0m     \u001b[0mpredict_fn\u001b[0m \u001b[0;34m=\u001b[0m \u001b[0;32mlambda\u001b[0m \u001b[0mX\u001b[0m\u001b[0;34m:\u001b[0m \u001b[0mforest\u001b[0m\u001b[0;34m.\u001b[0m\u001b[0mpredict_proba\u001b[0m\u001b[0;34m(\u001b[0m\u001b[0mtransform_data\u001b[0m\u001b[0;34m(\u001b[0m\u001b[0mX\u001b[0m\u001b[0;34m,\u001b[0m \u001b[0mcategorical\u001b[0m\u001b[0;34m.\u001b[0m\u001b[0mcolnames\u001b[0m\u001b[0;34m,\u001b[0m \u001b[0mcolnames\u001b[0m\u001b[0;34m)\u001b[0m\u001b[0;34m)\u001b[0m\u001b[0;34m\u001b[0m\u001b[0m\n\u001b[1;32m    149\u001b[0m     \u001b[0mrow\u001b[0m \u001b[0;34m=\u001b[0m \u001b[0mdataset\u001b[0m\u001b[0;34m.\u001b[0m\u001b[0mloc\u001b[0m\u001b[0;34m[\u001b[0m\u001b[0mid\u001b[0m\u001b[0;34m,\u001b[0m\u001b[0;34m:\u001b[0m\u001b[0;34m]\u001b[0m\u001b[0;34m\u001b[0m\u001b[0m\n\u001b[0;32m--> 150\u001b[0;31m     \u001b[0mexp\u001b[0m \u001b[0;34m=\u001b[0m \u001b[0mexplainer\u001b[0m\u001b[0;34m.\u001b[0m\u001b[0mexplain_instance\u001b[0m\u001b[0;34m(\u001b[0m\u001b[0mrow\u001b[0m\u001b[0;34m,\u001b[0m \u001b[0mpredict_fn\u001b[0m\u001b[0;34m,\u001b[0m \u001b[0mnum_features\u001b[0m\u001b[0;34m=\u001b[0m\u001b[0mn_features\u001b[0m\u001b[0;34m)\u001b[0m\u001b[0;34m\u001b[0m\u001b[0m\n\u001b[0m\u001b[1;32m    151\u001b[0m     \u001b[0mexp\u001b[0m\u001b[0;34m.\u001b[0m\u001b[0mshow_in_notebook\u001b[0m\u001b[0;34m(\u001b[0m\u001b[0mshow_all\u001b[0m\u001b[0;34m=\u001b[0m\u001b[0;32mFalse\u001b[0m\u001b[0;34m)\u001b[0m\u001b[0;34m\u001b[0m\u001b[0m\n",
      "\u001b[0;32m/Users/gutmaj03/anaconda3/envs/edu_analytics/lib/python3.6/site-packages/lime/lime_tabular.py\u001b[0m in \u001b[0;36mexplain_instance\u001b[0;34m(self, data_row, classifier_fn, labels, top_labels, num_features, num_samples, distance_metric, model_regressor)\u001b[0m\n\u001b[1;32m    228\u001b[0m         ).ravel()\n\u001b[1;32m    229\u001b[0m \u001b[0;34m\u001b[0m\u001b[0m\n\u001b[0;32m--> 230\u001b[0;31m         \u001b[0myss\u001b[0m \u001b[0;34m=\u001b[0m \u001b[0mclassifier_fn\u001b[0m\u001b[0;34m(\u001b[0m\u001b[0minverse\u001b[0m\u001b[0;34m)\u001b[0m\u001b[0;34m\u001b[0m\u001b[0m\n\u001b[0m\u001b[1;32m    231\u001b[0m         \u001b[0;32mif\u001b[0m \u001b[0mself\u001b[0m\u001b[0;34m.\u001b[0m\u001b[0mclass_names\u001b[0m \u001b[0;32mis\u001b[0m \u001b[0;32mNone\u001b[0m\u001b[0;34m:\u001b[0m\u001b[0;34m\u001b[0m\u001b[0m\n\u001b[1;32m    232\u001b[0m             \u001b[0mself\u001b[0m\u001b[0;34m.\u001b[0m\u001b[0mclass_names\u001b[0m \u001b[0;34m=\u001b[0m \u001b[0;34m[\u001b[0m\u001b[0mstr\u001b[0m\u001b[0;34m(\u001b[0m\u001b[0mx\u001b[0m\u001b[0;34m)\u001b[0m \u001b[0;32mfor\u001b[0m \u001b[0mx\u001b[0m \u001b[0;32min\u001b[0m \u001b[0mrange\u001b[0m\u001b[0;34m(\u001b[0m\u001b[0myss\u001b[0m\u001b[0;34m[\u001b[0m\u001b[0;36m0\u001b[0m\u001b[0;34m]\u001b[0m\u001b[0;34m.\u001b[0m\u001b[0mshape\u001b[0m\u001b[0;34m[\u001b[0m\u001b[0;36m0\u001b[0m\u001b[0;34m]\u001b[0m\u001b[0;34m)\u001b[0m\u001b[0;34m]\u001b[0m\u001b[0;34m\u001b[0m\u001b[0m\n",
      "\u001b[0;32m/Users/gutmaj03/Desktop/Box Sync/IIME/Admissions/eduanalytics/lime.py\u001b[0m in \u001b[0;36m<lambda>\u001b[0;34m(X)\u001b[0m\n\u001b[1;32m    146\u001b[0m                      categorical, forest, n_features = 5):\n\u001b[1;32m    147\u001b[0m     \u001b[0mcolnames\u001b[0m \u001b[0;34m=\u001b[0m \u001b[0mlist\u001b[0m\u001b[0;34m(\u001b[0m\u001b[0mdataset\u001b[0m\u001b[0;34m.\u001b[0m\u001b[0mcolumns\u001b[0m\u001b[0;34m)\u001b[0m\u001b[0;34m\u001b[0m\u001b[0m\n\u001b[0;32m--> 148\u001b[0;31m     \u001b[0mpredict_fn\u001b[0m \u001b[0;34m=\u001b[0m \u001b[0;32mlambda\u001b[0m \u001b[0mX\u001b[0m\u001b[0;34m:\u001b[0m \u001b[0mforest\u001b[0m\u001b[0;34m.\u001b[0m\u001b[0mpredict_proba\u001b[0m\u001b[0;34m(\u001b[0m\u001b[0mtransform_data\u001b[0m\u001b[0;34m(\u001b[0m\u001b[0mX\u001b[0m\u001b[0;34m,\u001b[0m \u001b[0mcategorical\u001b[0m\u001b[0;34m.\u001b[0m\u001b[0mcolnames\u001b[0m\u001b[0;34m,\u001b[0m \u001b[0mcolnames\u001b[0m\u001b[0;34m)\u001b[0m\u001b[0;34m)\u001b[0m\u001b[0;34m\u001b[0m\u001b[0m\n\u001b[0m\u001b[1;32m    149\u001b[0m     \u001b[0mrow\u001b[0m \u001b[0;34m=\u001b[0m \u001b[0mdataset\u001b[0m\u001b[0;34m.\u001b[0m\u001b[0mloc\u001b[0m\u001b[0;34m[\u001b[0m\u001b[0mid\u001b[0m\u001b[0;34m,\u001b[0m\u001b[0;34m:\u001b[0m\u001b[0;34m]\u001b[0m\u001b[0;34m\u001b[0m\u001b[0m\n\u001b[1;32m    150\u001b[0m     \u001b[0mexp\u001b[0m \u001b[0;34m=\u001b[0m \u001b[0mexplainer\u001b[0m\u001b[0;34m.\u001b[0m\u001b[0mexplain_instance\u001b[0m\u001b[0;34m(\u001b[0m\u001b[0mrow\u001b[0m\u001b[0;34m,\u001b[0m \u001b[0mpredict_fn\u001b[0m\u001b[0;34m,\u001b[0m \u001b[0mnum_features\u001b[0m\u001b[0;34m=\u001b[0m\u001b[0mn_features\u001b[0m\u001b[0;34m)\u001b[0m\u001b[0;34m\u001b[0m\u001b[0m\n",
      "\u001b[0;32m/Users/gutmaj03/anaconda3/envs/edu_analytics/lib/python3.6/site-packages/sklearn/ensemble/forest.py\u001b[0m in \u001b[0;36mpredict_proba\u001b[0;34m(self, X)\u001b[0m\n\u001b[1;32m    571\u001b[0m         \"\"\"\n\u001b[1;32m    572\u001b[0m         \u001b[0;31m# Check data\u001b[0m\u001b[0;34m\u001b[0m\u001b[0;34m\u001b[0m\u001b[0m\n\u001b[0;32m--> 573\u001b[0;31m         \u001b[0mX\u001b[0m \u001b[0;34m=\u001b[0m \u001b[0mself\u001b[0m\u001b[0;34m.\u001b[0m\u001b[0m_validate_X_predict\u001b[0m\u001b[0;34m(\u001b[0m\u001b[0mX\u001b[0m\u001b[0;34m)\u001b[0m\u001b[0;34m\u001b[0m\u001b[0m\n\u001b[0m\u001b[1;32m    574\u001b[0m \u001b[0;34m\u001b[0m\u001b[0m\n\u001b[1;32m    575\u001b[0m         \u001b[0;31m# Assign chunk of trees to jobs\u001b[0m\u001b[0;34m\u001b[0m\u001b[0;34m\u001b[0m\u001b[0m\n",
      "\u001b[0;32m/Users/gutmaj03/anaconda3/envs/edu_analytics/lib/python3.6/site-packages/sklearn/ensemble/forest.py\u001b[0m in \u001b[0;36m_validate_X_predict\u001b[0;34m(self, X)\u001b[0m\n\u001b[1;32m    353\u001b[0m                                  \"call `fit` before exploiting the model.\")\n\u001b[1;32m    354\u001b[0m \u001b[0;34m\u001b[0m\u001b[0m\n\u001b[0;32m--> 355\u001b[0;31m         \u001b[0;32mreturn\u001b[0m \u001b[0mself\u001b[0m\u001b[0;34m.\u001b[0m\u001b[0mestimators_\u001b[0m\u001b[0;34m[\u001b[0m\u001b[0;36m0\u001b[0m\u001b[0;34m]\u001b[0m\u001b[0;34m.\u001b[0m\u001b[0m_validate_X_predict\u001b[0m\u001b[0;34m(\u001b[0m\u001b[0mX\u001b[0m\u001b[0;34m,\u001b[0m \u001b[0mcheck_input\u001b[0m\u001b[0;34m=\u001b[0m\u001b[0;32mTrue\u001b[0m\u001b[0;34m)\u001b[0m\u001b[0;34m\u001b[0m\u001b[0m\n\u001b[0m\u001b[1;32m    356\u001b[0m \u001b[0;34m\u001b[0m\u001b[0m\n\u001b[1;32m    357\u001b[0m     \u001b[0;34m@\u001b[0m\u001b[0mproperty\u001b[0m\u001b[0;34m\u001b[0m\u001b[0m\n",
      "\u001b[0;32m/Users/gutmaj03/anaconda3/envs/edu_analytics/lib/python3.6/site-packages/sklearn/tree/tree.py\u001b[0m in \u001b[0;36m_validate_X_predict\u001b[0;34m(self, X, check_input)\u001b[0m\n\u001b[1;32m    374\u001b[0m                              \u001b[0;34m\"match the input. Model n_features is %s and \"\u001b[0m\u001b[0;34m\u001b[0m\u001b[0m\n\u001b[1;32m    375\u001b[0m                              \u001b[0;34m\"input n_features is %s \"\u001b[0m\u001b[0;34m\u001b[0m\u001b[0m\n\u001b[0;32m--> 376\u001b[0;31m                              % (self.n_features_, n_features))\n\u001b[0m\u001b[1;32m    377\u001b[0m \u001b[0;34m\u001b[0m\u001b[0m\n\u001b[1;32m    378\u001b[0m         \u001b[0;32mreturn\u001b[0m \u001b[0mX\u001b[0m\u001b[0;34m\u001b[0m\u001b[0m\n",
      "\u001b[0;31mValueError\u001b[0m: Number of features of the model must match the input. Model n_features is 86 and input n_features is 85 "
     ]
    }
   ],
   "source": [
    "id = '0364cd1082de674d5358fa4f7446c682'\n",
    "lime.explain_instance(id, encoded_data, explainer, \n",
    "    categorical, forest, n_features = 5)"
   ]
  },
  {
   "cell_type": "code",
   "execution_count": 27,
   "metadata": {
    "collapsed": false
   },
   "outputs": [
    {
     "data": {
      "text/plain": [
       "Index(['bcpm_gpa_cumulative', 'bcpm_hours_cumulative', 'total_gpa_cumulative',\n",
       "       'bcpm_gpa_postbac', 'bcpm_hours_postbac', 'total_gpa_postbac',\n",
       "       'bcpm_a_counts', 'bcpm_b_counts', 'bcpm_c_counts', 'bcpm_d_counts',\n",
       "       'bcpm_f_counts', 'math_a_counts', 'math_b_counts', 'math_c_counts',\n",
       "       'math_d_counts', 'math_f_counts', 'biol_a_counts', 'biol_b_counts',\n",
       "       'biol_c_counts', 'biol_d_counts', 'biol_f_counts', 'chem_a_counts',\n",
       "       'chem_b_counts', 'chem_c_counts', 'chem_d_counts', 'chem_f_counts',\n",
       "       'phys_a_counts', 'phys_b_counts', 'phys_c_counts', 'phys_d_counts',\n",
       "       'phys_f_counts', 'total_percentile', 'bio_percentile',\n",
       "       'phy_chem_percentile', 'count_mcat', 'parent_edu_score',\n",
       "       'median_income_zipcode', 'age_at_application', 'appl_year_2014.0',\n",
       "       'appl_year_2015.0', 'appl_year_2016.0', 'appl_year_2017.0',\n",
       "       'total_gpa_soph_higher_1.0', 'total_gpa_soph_higher_nan',\n",
       "       'total_gpa_juni_higher_1.0', 'total_gpa_juni_higher_nan',\n",
       "       'total_gpa_seni_higher_1.0', 'total_gpa_seni_higher_nan',\n",
       "       'bcpm_gpa_soph_higher_1.0', 'bcpm_gpa_soph_higher_nan',\n",
       "       'bcpm_gpa_juni_higher_1.0', 'bcpm_gpa_juni_higher_nan',\n",
       "       'bcpm_gpa_seni_higher_1.0', 'bcpm_gpa_seni_higher_nan',\n",
       "       'did_postbac_1.0', 'attended_grad_school_1.0', 'mcat_type_old',\n",
       "       'mcat_type_nan', 'gender_F', 'gender_M', 'college_top_25_Top 25',\n",
       "       'college_top_25_nan', 'is_disadvantaged_1.0', 'urm_Y',\n",
       "       'advanced_degree_Y', 'race_Asian', 'race_Black or African American',\n",
       "       'race_Chinese', 'race_Filipino', 'race_Guamanian', 'race_Japanese',\n",
       "       'race_Korean', 'race_Native Hawaiian', 'race_Other', 'race_Other Asian',\n",
       "       'race_Other Pacific Islander', 'race_Pakistani', 'race_Vietnamese',\n",
       "       'race_White', 'race_nan', 'exp_publications_1.0', 'exp_leadership_1.0',\n",
       "       'exp_athletics_1.0', 'exp_medical_1.0', 'exp_military_1.0',\n",
       "       'exp_research_1.0'],\n",
       "      dtype='object')"
      ]
     },
     "execution_count": 27,
     "metadata": {},
     "output_type": "execute_result"
    }
   ],
   "source": [
    "encoder.transformed_columns"
   ]
  },
  {
   "cell_type": "code",
   "execution_count": 54,
   "metadata": {
    "collapsed": false
   },
   "outputs": [
    {
     "data": {
      "text/plain": [
       "{0: [2013, 2014, 2015, 2016, 2017],\n",
       " 7: [0.0, 1.0, 'nan'],\n",
       " 8: [0.0, 1.0, 'nan'],\n",
       " 9: [0.0, 1.0, 'nan'],\n",
       " 10: [0.0, 1.0, 'nan'],\n",
       " 11: [0.0, 1.0, 'nan'],\n",
       " 12: [0.0, 1.0, 'nan'],\n",
       " 13: [0.0, 1.0],\n",
       " 14: [0.0, 1.0],\n",
       " 43: ['new', 'old', 'nan'],\n",
       " 47: ['D', 'F', 'M'],\n",
       " 49: ['Non-Top 25', 'Top 25', 'nan'],\n",
       " 50: [0.0, 1.0],\n",
       " 51: ['N', 'Y'],\n",
       " 52: ['N', 'Y'],\n",
       " 53: ['American Indian or Alaskan Native',\n",
       "  'Asian',\n",
       "  'Black or African American',\n",
       "  'Chinese',\n",
       "  'Filipino',\n",
       "  'Guamanian',\n",
       "  'Japanese',\n",
       "  'Korean',\n",
       "  'Native Hawaiian',\n",
       "  'Native Hawaiian or Other Pacific Islander',\n",
       "  'Other',\n",
       "  'Other Asian',\n",
       "  'Other Pacific Islander',\n",
       "  'Pakistani',\n",
       "  'Samoan',\n",
       "  'Vietnamese',\n",
       "  'White',\n",
       "  'nan'],\n",
       " 54: [0.0, 1.0],\n",
       " 55: [0.0, 1.0],\n",
       " 56: [0.0, 1.0],\n",
       " 57: [0.0, 1.0],\n",
       " 58: [0.0, 1.0],\n",
       " 59: [0.0, 1.0]}"
      ]
     },
     "execution_count": 54,
     "metadata": {},
     "output_type": "execute_result"
    }
   ],
   "source": [
    "categorical.mapping"
   ]
  },
  {
   "cell_type": "code",
   "execution_count": 29,
   "metadata": {
    "collapsed": false
   },
   "outputs": [
    {
     "data": {
      "text/plain": [
       "50"
      ]
     },
     "execution_count": 29,
     "metadata": {},
     "output_type": "execute_result"
    }
   ],
   "source": [
    "sum([len(vals) - 1 for vals in categorical.mapping.values()])"
   ]
  },
  {
   "cell_type": "code",
   "execution_count": 37,
   "metadata": {
    "collapsed": false
   },
   "outputs": [
    {
     "data": {
      "text/plain": [
       "38"
      ]
     },
     "execution_count": 37,
     "metadata": {},
     "output_type": "execute_result"
    }
   ],
   "source": [
    "len(train.X.columns) - len(categorical.mapping)"
   ]
  },
  {
   "cell_type": "code",
   "execution_count": 38,
   "metadata": {
    "collapsed": false
   },
   "outputs": [
    {
     "data": {
      "text/plain": [
       "86"
      ]
     },
     "execution_count": 38,
     "metadata": {},
     "output_type": "execute_result"
    }
   ],
   "source": [
    "len(encoder.transformed_columns)"
   ]
  },
  {
   "cell_type": "code",
   "execution_count": 41,
   "metadata": {
    "collapsed": false
   },
   "outputs": [
    {
     "data": {
      "text/html": [
       "<div>\n",
       "<table border=\"1\" class=\"dataframe\">\n",
       "  <thead>\n",
       "    <tr style=\"text-align: right;\">\n",
       "      <th></th>\n",
       "      <th>appl_year</th>\n",
       "      <th>bcpm_gpa_cumulative</th>\n",
       "      <th>bcpm_hours_cumulative</th>\n",
       "      <th>total_gpa_cumulative</th>\n",
       "      <th>bcpm_gpa_postbac</th>\n",
       "      <th>bcpm_hours_postbac</th>\n",
       "      <th>total_gpa_postbac</th>\n",
       "      <th>total_gpa_soph_higher</th>\n",
       "      <th>total_gpa_juni_higher</th>\n",
       "      <th>total_gpa_seni_higher</th>\n",
       "      <th>...</th>\n",
       "      <th>is_disadvantaged</th>\n",
       "      <th>urm</th>\n",
       "      <th>advanced_degree</th>\n",
       "      <th>race</th>\n",
       "      <th>exp_publications</th>\n",
       "      <th>exp_leadership</th>\n",
       "      <th>exp_athletics</th>\n",
       "      <th>exp_medical</th>\n",
       "      <th>exp_military</th>\n",
       "      <th>exp_research</th>\n",
       "    </tr>\n",
       "    <tr>\n",
       "      <th>study_id</th>\n",
       "      <th></th>\n",
       "      <th></th>\n",
       "      <th></th>\n",
       "      <th></th>\n",
       "      <th></th>\n",
       "      <th></th>\n",
       "      <th></th>\n",
       "      <th></th>\n",
       "      <th></th>\n",
       "      <th></th>\n",
       "      <th></th>\n",
       "      <th></th>\n",
       "      <th></th>\n",
       "      <th></th>\n",
       "      <th></th>\n",
       "      <th></th>\n",
       "      <th></th>\n",
       "      <th></th>\n",
       "      <th></th>\n",
       "      <th></th>\n",
       "      <th></th>\n",
       "    </tr>\n",
       "  </thead>\n",
       "  <tbody>\n",
       "    <tr>\n",
       "      <th>6cfc566dab0ae33517298a1dc382a619</th>\n",
       "      <td>2016</td>\n",
       "      <td>3.83</td>\n",
       "      <td>51.0</td>\n",
       "      <td>3.88</td>\n",
       "      <td>NaN</td>\n",
       "      <td>0.0</td>\n",
       "      <td>NaN</td>\n",
       "      <td>1.0</td>\n",
       "      <td>1.0</td>\n",
       "      <td>NaN</td>\n",
       "      <td>...</td>\n",
       "      <td>0.0</td>\n",
       "      <td>Y</td>\n",
       "      <td>N</td>\n",
       "      <td>Native Hawaiian or Other Pacific Islander</td>\n",
       "      <td>1.0</td>\n",
       "      <td>0.0</td>\n",
       "      <td>0.0</td>\n",
       "      <td>1.0</td>\n",
       "      <td>0.0</td>\n",
       "      <td>1.0</td>\n",
       "    </tr>\n",
       "  </tbody>\n",
       "</table>\n",
       "<p>1 rows × 60 columns</p>\n",
       "</div>"
      ],
      "text/plain": [
       "                                 appl_year  bcpm_gpa_cumulative  \\\n",
       "study_id                                                          \n",
       "6cfc566dab0ae33517298a1dc382a619      2016                 3.83   \n",
       "\n",
       "                                  bcpm_hours_cumulative  total_gpa_cumulative  \\\n",
       "study_id                                                                        \n",
       "6cfc566dab0ae33517298a1dc382a619                   51.0                  3.88   \n",
       "\n",
       "                                  bcpm_gpa_postbac  bcpm_hours_postbac  \\\n",
       "study_id                                                                 \n",
       "6cfc566dab0ae33517298a1dc382a619               NaN                 0.0   \n",
       "\n",
       "                                  total_gpa_postbac total_gpa_soph_higher  \\\n",
       "study_id                                                                    \n",
       "6cfc566dab0ae33517298a1dc382a619                NaN                   1.0   \n",
       "\n",
       "                                 total_gpa_juni_higher total_gpa_seni_higher  \\\n",
       "study_id                                                                       \n",
       "6cfc566dab0ae33517298a1dc382a619                   1.0                   NaN   \n",
       "\n",
       "                                      ...      is_disadvantaged urm  \\\n",
       "study_id                              ...                             \n",
       "6cfc566dab0ae33517298a1dc382a619      ...                   0.0   Y   \n",
       "\n",
       "                                 advanced_degree  \\\n",
       "study_id                                           \n",
       "6cfc566dab0ae33517298a1dc382a619               N   \n",
       "\n",
       "                                                                       race  \\\n",
       "study_id                                                                      \n",
       "6cfc566dab0ae33517298a1dc382a619  Native Hawaiian or Other Pacific Islander   \n",
       "\n",
       "                                 exp_publications  exp_leadership  \\\n",
       "study_id                                                            \n",
       "6cfc566dab0ae33517298a1dc382a619              1.0             0.0   \n",
       "\n",
       "                                  exp_athletics  exp_medical  exp_military  \\\n",
       "study_id                                                                     \n",
       "6cfc566dab0ae33517298a1dc382a619            0.0          1.0           0.0   \n",
       "\n",
       "                                  exp_research  \n",
       "study_id                                        \n",
       "6cfc566dab0ae33517298a1dc382a619           1.0  \n",
       "\n",
       "[1 rows x 60 columns]"
      ]
     },
     "execution_count": 41,
     "metadata": {},
     "output_type": "execute_result"
    }
   ],
   "source": [
    "test.X[test.X.race == 'Native Hawaiian or Other Pacific Islander']"
   ]
  },
  {
   "cell_type": "code",
   "execution_count": 47,
   "metadata": {
    "collapsed": false
   },
   "outputs": [
    {
     "data": {
      "text/plain": [
       "Index(['American Indian or Alaskan Native', 'Asian',\n",
       "       'Black or African American', 'Chinese', 'Filipino', 'Guamanian',\n",
       "       'Japanese', 'Korean', 'Native Hawaiian',\n",
       "       'Native Hawaiian or Other Pacific Islander', 'Other', 'Other Asian',\n",
       "       'Other Pacific Islander', 'Pakistani', 'Samoan', 'Vietnamese', 'White'],\n",
       "      dtype='object')"
      ]
     },
     "execution_count": 47,
     "metadata": {},
     "output_type": "execute_result"
    }
   ],
   "source": [
    "train.X.race.cat.categories"
   ]
  },
  {
   "cell_type": "code",
   "execution_count": 50,
   "metadata": {
    "collapsed": false
   },
   "outputs": [],
   "source": [
    "race = train.X.race.value_counts()\n",
    "race = race[race > 0]\n"
   ]
  },
  {
   "cell_type": "code",
   "execution_count": 52,
   "metadata": {
    "collapsed": false
   },
   "outputs": [
    {
     "ename": "ValueError",
     "evalue": "new categories need to have the same number of items than the old categories!",
     "output_type": "error",
     "traceback": [
      "\u001b[0;31m---------------------------------------------------------------------------\u001b[0m",
      "\u001b[0;31mValueError\u001b[0m                                Traceback (most recent call last)",
      "\u001b[0;32m<ipython-input-52-41f7a8d70f50>\u001b[0m in \u001b[0;36m<module>\u001b[0;34m()\u001b[0m\n\u001b[0;32m----> 1\u001b[0;31m \u001b[0mtrain\u001b[0m\u001b[0;34m.\u001b[0m\u001b[0mX\u001b[0m\u001b[0;34m.\u001b[0m\u001b[0mrace\u001b[0m\u001b[0;34m.\u001b[0m\u001b[0mcat\u001b[0m\u001b[0;34m.\u001b[0m\u001b[0mcategories\u001b[0m \u001b[0;34m=\u001b[0m \u001b[0mrace\u001b[0m\u001b[0;34m\u001b[0m\u001b[0m\n\u001b[0m",
      "\u001b[0;32m/Users/gutmaj03/anaconda3/envs/edu_analytics/lib/python3.6/site-packages/pandas/core/base.py\u001b[0m in \u001b[0;36m__setattr__\u001b[0;34m(self, key, value)\u001b[0m\n\u001b[1;32m    159\u001b[0m             raise AttributeError(\"You cannot add any new attribute '{key}'\".\n\u001b[1;32m    160\u001b[0m                                  format(key=key))\n\u001b[0;32m--> 161\u001b[0;31m         \u001b[0mobject\u001b[0m\u001b[0;34m.\u001b[0m\u001b[0m__setattr__\u001b[0m\u001b[0;34m(\u001b[0m\u001b[0mself\u001b[0m\u001b[0;34m,\u001b[0m \u001b[0mkey\u001b[0m\u001b[0;34m,\u001b[0m \u001b[0mvalue\u001b[0m\u001b[0;34m)\u001b[0m\u001b[0;34m\u001b[0m\u001b[0m\n\u001b[0m\u001b[1;32m    162\u001b[0m \u001b[0;34m\u001b[0m\u001b[0m\n\u001b[1;32m    163\u001b[0m \u001b[0;34m\u001b[0m\u001b[0m\n",
      "\u001b[0;32m/Users/gutmaj03/anaconda3/envs/edu_analytics/lib/python3.6/site-packages/pandas/core/base.py\u001b[0m in \u001b[0;36m_setter\u001b[0;34m(self, new_values)\u001b[0m\n\u001b[1;32m    197\u001b[0m \u001b[0;34m\u001b[0m\u001b[0m\n\u001b[1;32m    198\u001b[0m             \u001b[0;32mdef\u001b[0m \u001b[0m_setter\u001b[0m\u001b[0;34m(\u001b[0m\u001b[0mself\u001b[0m\u001b[0;34m,\u001b[0m \u001b[0mnew_values\u001b[0m\u001b[0;34m)\u001b[0m\u001b[0;34m:\u001b[0m\u001b[0;34m\u001b[0m\u001b[0m\n\u001b[0;32m--> 199\u001b[0;31m                 \u001b[0;32mreturn\u001b[0m \u001b[0mself\u001b[0m\u001b[0;34m.\u001b[0m\u001b[0m_delegate_property_set\u001b[0m\u001b[0;34m(\u001b[0m\u001b[0mname\u001b[0m\u001b[0;34m,\u001b[0m \u001b[0mnew_values\u001b[0m\u001b[0;34m)\u001b[0m\u001b[0;34m\u001b[0m\u001b[0m\n\u001b[0m\u001b[1;32m    200\u001b[0m \u001b[0;34m\u001b[0m\u001b[0m\n\u001b[1;32m    201\u001b[0m             \u001b[0m_getter\u001b[0m\u001b[0;34m.\u001b[0m\u001b[0m__name__\u001b[0m \u001b[0;34m=\u001b[0m \u001b[0mname\u001b[0m\u001b[0;34m\u001b[0m\u001b[0m\n",
      "\u001b[0;32m/Users/gutmaj03/anaconda3/envs/edu_analytics/lib/python3.6/site-packages/pandas/core/categorical.py\u001b[0m in \u001b[0;36m_delegate_property_set\u001b[0;34m(self, name, new_values)\u001b[0m\n\u001b[1;32m   1948\u001b[0m \u001b[0;34m\u001b[0m\u001b[0m\n\u001b[1;32m   1949\u001b[0m     \u001b[0;32mdef\u001b[0m \u001b[0m_delegate_property_set\u001b[0m\u001b[0;34m(\u001b[0m\u001b[0mself\u001b[0m\u001b[0;34m,\u001b[0m \u001b[0mname\u001b[0m\u001b[0;34m,\u001b[0m \u001b[0mnew_values\u001b[0m\u001b[0;34m)\u001b[0m\u001b[0;34m:\u001b[0m\u001b[0;34m\u001b[0m\u001b[0m\n\u001b[0;32m-> 1950\u001b[0;31m         \u001b[0;32mreturn\u001b[0m \u001b[0msetattr\u001b[0m\u001b[0;34m(\u001b[0m\u001b[0mself\u001b[0m\u001b[0;34m.\u001b[0m\u001b[0mcategorical\u001b[0m\u001b[0;34m,\u001b[0m \u001b[0mname\u001b[0m\u001b[0;34m,\u001b[0m \u001b[0mnew_values\u001b[0m\u001b[0;34m)\u001b[0m\u001b[0;34m\u001b[0m\u001b[0m\n\u001b[0m\u001b[1;32m   1951\u001b[0m \u001b[0;34m\u001b[0m\u001b[0m\n\u001b[1;32m   1952\u001b[0m     \u001b[0;34m@\u001b[0m\u001b[0mproperty\u001b[0m\u001b[0;34m\u001b[0m\u001b[0m\n",
      "\u001b[0;32m/Users/gutmaj03/anaconda3/envs/edu_analytics/lib/python3.6/site-packages/pandas/core/categorical.py\u001b[0m in \u001b[0;36m_set_categories\u001b[0;34m(self, categories, fastpath)\u001b[0m\n\u001b[1;32m    589\u001b[0m         if (not fastpath and self._categories is not None and\n\u001b[1;32m    590\u001b[0m                 len(categories) != len(self._categories)):\n\u001b[0;32m--> 591\u001b[0;31m             raise ValueError(\"new categories need to have the same number of \"\n\u001b[0m\u001b[1;32m    592\u001b[0m                              \"items than the old categories!\")\n\u001b[1;32m    593\u001b[0m \u001b[0;34m\u001b[0m\u001b[0m\n",
      "\u001b[0;31mValueError\u001b[0m: new categories need to have the same number of items than the old categories!"
     ]
    }
   ],
   "source": [
    "train.X.race.cat.categories = race"
   ]
  },
  {
   "cell_type": "code",
   "execution_count": 53,
   "metadata": {
    "collapsed": false
   },
   "outputs": [
    {
     "data": {
      "text/plain": [
       "Index(['American Indian or Alaskan Native', 'Asian',\n",
       "       'Black or African American', 'Chinese', 'Filipino', 'Guamanian',\n",
       "       'Japanese', 'Korean', 'Native Hawaiian',\n",
       "       'Native Hawaiian or Other Pacific Islander', 'Other', 'Other Asian',\n",
       "       'Other Pacific Islander', 'Pakistani', 'Samoan', 'Vietnamese', 'White'],\n",
       "      dtype='object')"
      ]
     },
     "execution_count": 53,
     "metadata": {},
     "output_type": "execute_result"
    }
   ],
   "source": [
    "train.X.race.cat.categories"
   ]
  },
  {
   "cell_type": "code",
   "execution_count": null,
   "metadata": {
    "collapsed": true
   },
   "outputs": [],
   "source": []
  }
 ],
 "metadata": {
  "kernelspec": {
   "display_name": "Environment (conda_edu_analytics)",
   "language": "python",
   "name": "conda_edu_analytics"
  },
  "language_info": {
   "codemirror_mode": {
    "name": "ipython",
    "version": 3
   },
   "file_extension": ".py",
   "mimetype": "text/x-python",
   "name": "python",
   "nbconvert_exporter": "python",
   "pygments_lexer": "ipython3",
   "version": "3.6.0"
  }
 },
 "nbformat": 4,
 "nbformat_minor": 2
}
