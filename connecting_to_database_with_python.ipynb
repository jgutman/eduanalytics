{
 "cells": [
  {
   "cell_type": "markdown",
   "metadata": {},
   "source": [
    "## Imports"
   ]
  },
  {
   "cell_type": "code",
   "execution_count": 3,
   "metadata": {
    "collapsed": false
   },
   "outputs": [],
   "source": [
    "import pymysql.cursors\n",
    "import configparser\n",
    "import sqlalchemy\n",
    "import os"
   ]
  },
  {
   "cell_type": "code",
   "execution_count": 70,
   "metadata": {
    "collapsed": true
   },
   "outputs": [],
   "source": [
    "import pandas as pd\n",
    "import sklearn\n",
    "from sklearn.pipeline import Pipeline, make_pipeline, TransformerMixin\n",
    "from sklearn.model_selection import train_test_split, GridSearchCV\n",
    "from sklearn import preprocessing, ensemble, linear_model"
   ]
  },
  {
   "cell_type": "code",
   "execution_count": 16,
   "metadata": {
    "collapsed": false
   },
   "outputs": [
    {
     "name": "stdout",
     "output_type": "stream",
     "text": [
      "0.18.1\n",
      "0.19.2\n"
     ]
    }
   ],
   "source": [
    "print(sklearn.__version__)\n",
    "print(pd.__version__)"
   ]
  },
  {
   "cell_type": "markdown",
   "metadata": {},
   "source": [
    "## Functions"
   ]
  },
  {
   "cell_type": "code",
   "execution_count": 7,
   "metadata": {
    "collapsed": true
   },
   "outputs": [],
   "source": [
    "def connect_to_database(credentials_path, group):\n",
    "    reader = configparser.RawConfigParser()\n",
    "    reader.read(os.path.join(credentials_path, '.my.cnf'))\n",
    "    connection_string = 'mysql+pymysql://{user}:{password}@{host}:{port}/{dbname}'.format(\n",
    "        user = reader.get(group, 'user'),\n",
    "        password = reader.get(group, 'password'),\n",
    "        host = reader.get(group, 'host'),\n",
    "        port = reader.get(group, 'port'),\n",
    "        dbname = reader.get(group, 'database')\n",
    "    )\n",
    "    engine = sqlalchemy.create_engine(connection_string)\n",
    "    return engine"
   ]
  },
  {
   "cell_type": "code",
   "execution_count": 8,
   "metadata": {
    "collapsed": true
   },
   "outputs": [],
   "source": [
    "def convert_categorical(data):\n",
    "    binary_cols = set(col for col in data if (data[col].nunique() == 2 and not col.endswith('counts')))\n",
    "    string_cols = set(col for col in data if data[col].dtype == 'O')\n",
    "    categoricals = binary_cols.union(string_cols)\n",
    "    categoricals.add('appl_year')\n",
    "    data_categorical = data.astype({col: 'category' for col in categoricals})\n",
    "    return data_categorical"
   ]
  },
  {
   "cell_type": "markdown",
   "metadata": {},
   "source": [
    "## Connect to database"
   ]
  },
  {
   "cell_type": "code",
   "execution_count": 9,
   "metadata": {
    "collapsed": false
   },
   "outputs": [],
   "source": [
    "group = 'edu_db_owner'\n",
    "credentials_path = '/Volumes/IIME/EDS/data/admissions/db_credentials'\n",
    "\n",
    "engine = connect_to_database(credentials_path, group)"
   ]
  },
  {
   "cell_type": "code",
   "execution_count": 10,
   "metadata": {
    "collapsed": false
   },
   "outputs": [],
   "source": [
    "tbl_name = 'grades_gpa_mcat_other_features'\n",
    "get_table = 'select * from deidentified$model_data${}'.format(tbl_name)\n",
    "\n",
    "model_matrix = pd.read_sql_query(get_table, engine)\n",
    "model_matrix = model_matrix.set_index('study_id')"
   ]
  },
  {
   "cell_type": "code",
   "execution_count": 11,
   "metadata": {
    "collapsed": false
   },
   "outputs": [
    {
     "data": {
      "text/plain": [
       "(1218, 54)"
      ]
     },
     "execution_count": 11,
     "metadata": {},
     "output_type": "execute_result"
    }
   ],
   "source": [
    "model_matrix.shape"
   ]
  },
  {
   "cell_type": "markdown",
   "metadata": {},
   "source": [
    "## Prepare data for modeling"
   ]
  },
  {
   "cell_type": "code",
   "execution_count": 54,
   "metadata": {
    "collapsed": true
   },
   "outputs": [],
   "source": [
    "model_matrix = model_matrix.astype({'appl_year': int})\n",
    "model_matrix = convert_categorical(model_matrix)"
   ]
  },
  {
   "cell_type": "code",
   "execution_count": 56,
   "metadata": {
    "collapsed": false,
    "scrolled": true
   },
   "outputs": [
    {
     "data": {
      "text/plain": [
       "appl_year                        category\n",
       "outcome                          category\n",
       "bcpm_gpa_cumulative               float64\n",
       "bcpm_hours_cumulative             float64\n",
       "total_gpa_cumulative              float64\n",
       "bcpm_gpa_postbac                  float64\n",
       "bcpm_hours_postbac                float64\n",
       "total_gpa_postbac                 float64\n",
       "total_gpa_soph_higher            category\n",
       "total_gpa_juni_higher            category\n",
       "total_gpa_seni_higher            category\n",
       "bcmp_gpa_soph_higher             category\n",
       "bcmp_gpa_juni_higher             category\n",
       "bcmp_gpa_seni_higher             category\n",
       "did_postbac                      category\n",
       "attended_grad_school             category\n",
       "bcpm_a_counts                     float64\n",
       "bcpm_b_counts                     float64\n",
       "bcpm_c_counts                     float64\n",
       "bcpm_d_counts                     float64\n",
       "bcpm_f_counts                     float64\n",
       "math_a_counts                     float64\n",
       "math_b_counts                     float64\n",
       "math_c_counts                     float64\n",
       "math_d_counts                     float64\n",
       "math_f_counts                     float64\n",
       "biol_a_counts                     float64\n",
       "biol_b_counts                     float64\n",
       "biol_c_counts                     float64\n",
       "biol_d_counts                     float64\n",
       "biol_f_counts                     float64\n",
       "chem_a_counts                     float64\n",
       "chem_b_counts                     float64\n",
       "chem_c_counts                     float64\n",
       "chem_d_counts                     float64\n",
       "chem_f_counts                     float64\n",
       "phys_a_counts                     float64\n",
       "phys_b_counts                     float64\n",
       "phys_c_counts                     float64\n",
       "phys_d_counts                     float64\n",
       "phys_f_counts                     float64\n",
       "total_percentile                  float64\n",
       "bio_percentile                    float64\n",
       "phy_chem_percentile               float64\n",
       "mcat_type                        category\n",
       "count_mcat                        float64\n",
       "gender                           category\n",
       "age_at_application                float64\n",
       "college_top_25                   category\n",
       "is_disadvantaged                 category\n",
       "urm                              category\n",
       "advanced_degree                  category\n",
       "race                             category\n",
       "total_num_schools_accepted_to     float64\n",
       "dtype: object"
      ]
     },
     "execution_count": 56,
     "metadata": {},
     "output_type": "execute_result"
    }
   ],
   "source": [
    "model_matrix.dtypes"
   ]
  },
  {
   "cell_type": "code",
   "execution_count": 57,
   "metadata": {
    "collapsed": false
   },
   "outputs": [],
   "source": [
    "X, y = model_matrix.drop('outcome', axis = 1), model_matrix.outcome"
   ]
  },
  {
   "cell_type": "code",
   "execution_count": 58,
   "metadata": {
    "collapsed": false
   },
   "outputs": [],
   "source": [
    "X_train, X_test, y_train, y_test = train_test_split(X, y, \n",
    "                                    test_size=0.20, random_state=1100)"
   ]
  },
  {
   "cell_type": "code",
   "execution_count": 103,
   "metadata": {
    "collapsed": true
   },
   "outputs": [],
   "source": [
    "y_train, y_test = y_train.astype(int), y_test.astype(int)"
   ]
  },
  {
   "cell_type": "code",
   "execution_count": 84,
   "metadata": {
    "collapsed": false
   },
   "outputs": [],
   "source": [
    "class DummyEncoder(sklearn.base.BaseEstimator, TransformerMixin):\n",
    "\n",
    "    def __init__(self, columns=None):\n",
    "        self.columns = columns\n",
    "\n",
    "    def transform(self, X, y=None, **kwargs):\n",
    "        return pd.get_dummies(X, columns = self.columns, \n",
    "            drop_first = True, dummy_na = True)\n",
    "\n",
    "    def fit(self, X, y=None, **kwargs):\n",
    "        return self"
   ]
  },
  {
   "cell_type": "code",
   "execution_count": 85,
   "metadata": {
    "collapsed": false
   },
   "outputs": [
    {
     "data": {
      "text/plain": [
       "array([ True,  True,  True,  True,  True,  True,  True,  True,  True,\n",
       "        True,  True,  True,  True,  True,  True,  True,  True,  True,\n",
       "        True,  True,  True,  True,  True,  True,  True,  True,  True,\n",
       "        True,  True,  True,  True,  True,  True,  True,  True,  True,\n",
       "        True,  True,  True,  True,  True,  True,  True,  True,  True,\n",
       "        True,  True,  True,  True,  True,  True,  True,  True,  True,\n",
       "        True,  True,  True,  True,  True,  True,  True,  True,  True,\n",
       "        True,  True,  True,  True,  True,  True,  True,  True,  True,\n",
       "        True,  True,  True,  True,  True,  True,  True,  True,  True,\n",
       "        True,  True,  True,  True,  True,  True], dtype=bool)"
      ]
     },
     "execution_count": 85,
     "metadata": {},
     "output_type": "execute_result"
    }
   ],
   "source": [
    "enc = DummyEncoder().fit(X_train)\n",
    "X_train_transformed = enc.transform(X_train)\n",
    "X_test_transformed = enc.transform(X_test)\n",
    "X_train_transformed.columns == X_test_transformed.columns"
   ]
  },
  {
   "cell_type": "code",
   "execution_count": 105,
   "metadata": {
    "collapsed": false
   },
   "outputs": [],
   "source": [
    "param_grid = dict(\n",
    "    imputer__strategy= ['mean', 'median'],\n",
    "    randomforestclassifier__n_estimators= [10, 50], # [50, 100, 200, 500, 1000],\n",
    "    randomforestclassifier__max_depth= [1, 5, 10], #[1, 5, 10, 20, 50],\n",
    "    randomforestclassifier__max_features= ['sqrt', 'log2'],\n",
    "    randomforestclassifier__min_samples_split= [2, 5, 10])"
   ]
  },
  {
   "cell_type": "code",
   "execution_count": 106,
   "metadata": {
    "collapsed": true
   },
   "outputs": [],
   "source": [
    "pipeline = make_pipeline(DummyEncoder(), preprocessing.Imputer(), ensemble.RandomForestClassifier())"
   ]
  },
  {
   "cell_type": "code",
   "execution_count": 107,
   "metadata": {
    "collapsed": true
   },
   "outputs": [],
   "source": [
    "grid_search = GridSearchCV(pipeline, param_grid = param_grid)"
   ]
  },
  {
   "cell_type": "code",
   "execution_count": 109,
   "metadata": {
    "collapsed": false
   },
   "outputs": [
    {
     "data": {
      "text/plain": [
       "GridSearchCV(cv=None, error_score='raise',\n",
       "       estimator=Pipeline(steps=[('dummyencoder', DummyEncoder(columns=None)), ('imputer', Imputer(axis=0, copy=True, missing_values='NaN', strategy='mean', verbose=0)), ('randomforestclassifier', RandomForestClassifier(bootstrap=True, class_weight=None, criterion='gini',\n",
       "            max_depth=None, max_features='auto', max_...imators=10, n_jobs=1, oob_score=False, random_state=None,\n",
       "            verbose=0, warm_start=False))]),\n",
       "       fit_params={}, iid=True, n_jobs=1,\n",
       "       param_grid={'imputer__strategy': ['mean', 'median'], 'randomforestclassifier__n_estimators': [10, 50], 'randomforestclassifier__max_depth': [1, 5, 10], 'randomforestclassifier__max_features': ['sqrt', 'log2'], 'randomforestclassifier__min_samples_split': [2, 5, 10]},\n",
       "       pre_dispatch='2*n_jobs', refit=True, return_train_score=True,\n",
       "       scoring=None, verbose=0)"
      ]
     },
     "execution_count": 109,
     "metadata": {},
     "output_type": "execute_result"
    }
   ],
   "source": [
    "grid_search.fit(X_train, y_train)"
   ]
  },
  {
   "cell_type": "code",
   "execution_count": null,
   "metadata": {
    "collapsed": true
   },
   "outputs": [],
   "source": []
  }
 ],
 "metadata": {
  "kernelspec": {
   "display_name": "Environment (conda_edu_analytics)",
   "language": "python",
   "name": "conda_edu_analytics"
  },
  "language_info": {
   "codemirror_mode": {
    "name": "ipython",
    "version": 3
   },
   "file_extension": ".py",
   "mimetype": "text/x-python",
   "name": "python",
   "nbconvert_exporter": "python",
   "pygments_lexer": "ipython3",
   "version": "3.6.0"
  }
 },
 "nbformat": 4,
 "nbformat_minor": 2
}
