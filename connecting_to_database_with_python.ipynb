{
 "cells": [
  {
   "cell_type": "markdown",
   "metadata": {},
   "source": [
    "## Imports"
   ]
  },
  {
   "cell_type": "code",
   "execution_count": 2,
   "metadata": {
    "collapsed": false
   },
   "outputs": [],
   "source": [
    "import eduanalytics\n",
    "from eduanalytics import model_data, pipeline_tools, reporting"
   ]
  },
  {
   "cell_type": "code",
   "execution_count": 3,
   "metadata": {
    "collapsed": true
   },
   "outputs": [],
   "source": [
    "import re, os, sys\n",
    "import importlib\n",
    "import pandas as pd\n",
    "import numpy as np\n",
    "import matplotlib.pyplot as plt\n",
    "from sklearn import metrics"
   ]
  },
  {
   "cell_type": "markdown",
   "metadata": {},
   "source": [
    "## Explore results"
   ]
  },
  {
   "cell_type": "code",
   "execution_count": 4,
   "metadata": {
    "collapsed": false
   },
   "outputs": [],
   "source": [
    "path = eduanalytics.credentials_path\n",
    "group = eduanalytics.credentials_group\n",
    "\n",
    "engine = model_data.connect_to_database(path, group)"
   ]
  },
  {
   "cell_type": "code",
   "execution_count": 5,
   "metadata": {
    "collapsed": true
   },
   "outputs": [],
   "source": [
    "tbl_name = 'aoa_admissions'"
   ]
  },
  {
   "cell_type": "code",
   "execution_count": 8,
   "metadata": {
    "collapsed": false
   },
   "outputs": [],
   "source": [
    "results = model_data.get_data_for_modeling(engine, \n",
    "            tbl_name, status = 'predictions')"
   ]
  },
  {
   "cell_type": "code",
   "execution_count": 28,
   "metadata": {
    "collapsed": false
   },
   "outputs": [],
   "source": [
    "train = results[results.set == 'train']\n",
    "test = results[results.set == 'test']"
   ]
  },
  {
   "cell_type": "code",
   "execution_count": 29,
   "metadata": {
    "collapsed": false
   },
   "outputs": [
    {
     "name": "stdout",
     "output_type": "stream",
     "text": [
      "0.0    1109\n",
      "1.0     201\n",
      "Name: outcome, dtype: int64\n",
      "(1310, 4)\n"
     ]
    }
   ],
   "source": [
    "print(train.outcome.value_counts())\n",
    "print(train.shape)"
   ]
  },
  {
   "cell_type": "code",
   "execution_count": 30,
   "metadata": {
    "collapsed": false
   },
   "outputs": [
    {
     "name": "stdout",
     "output_type": "stream",
     "text": [
      "0.0    241\n",
      "1.0     30\n",
      "Name: outcome, dtype: int64\n",
      "(271, 4)\n"
     ]
    }
   ],
   "source": [
    "print(test.outcome.value_counts())\n",
    "print(test.shape)"
   ]
  },
  {
   "cell_type": "code",
   "execution_count": 11,
   "metadata": {
    "collapsed": true
   },
   "outputs": [],
   "source": [
    "pkl_path = '/Volumes/IIME/EDS/data/admissions/pkls'"
   ]
  },
  {
   "cell_type": "code",
   "execution_count": 13,
   "metadata": {
    "collapsed": false
   },
   "outputs": [],
   "source": [
    "grid_search = reporting.load_model(pkl_path, 'aoa_admissions', 'rf_grid')"
   ]
  },
  {
   "cell_type": "code",
   "execution_count": 14,
   "metadata": {
    "collapsed": false
   },
   "outputs": [
    {
     "data": {
      "text/plain": [
       "GridSearchCV(cv=5, error_score='raise',\n",
       "       estimator=Pipeline(steps=[('dummyencoder', DummyEncoder()), ('imputer', Imputer(axis=0, copy=True, missing_values='NaN', strategy='mean', verbose=0)), ('randomforestclassifier', RandomForestClassifier(bootstrap=True, class_weight=None, criterion='gini',\n",
       "            max_depth=None, max_features='auto', max_leaf_nodes=N...imators=10, n_jobs=1, oob_score=False, random_state=1100,\n",
       "            verbose=0, warm_start=False))]),\n",
       "       fit_params={}, iid=True, n_jobs=-1,\n",
       "       param_grid={'randomforestclassifier__n_estimators': [10, 50, 100, 200, 500, 1000], 'randomforestclassifier__max_depth': [1, 5, 10, 20, 50], 'randomforestclassifier__max_features': ['sqrt', 'log2'], 'randomforestclassifier__min_samples_split': [2, 5, 10], 'imputer__strategy': ['mean', 'median']},\n",
       "       pre_dispatch='2*n_jobs', refit=True, return_train_score=True,\n",
       "       scoring='roc_auc', verbose=0)"
      ]
     },
     "execution_count": 14,
     "metadata": {},
     "output_type": "execute_result"
    }
   ],
   "source": [
    "grid_search"
   ]
  },
  {
   "cell_type": "code",
   "execution_count": 24,
   "metadata": {
    "collapsed": false
   },
   "outputs": [],
   "source": [
    "risk_scores = test.predicted\n",
    "hard_predictions = [1 if score >= 0.5 else 0 for score in risk_scores]"
   ]
  },
  {
   "cell_type": "code",
   "execution_count": 25,
   "metadata": {
    "collapsed": false
   },
   "outputs": [],
   "source": [
    "percentages = [15, 20]\n",
    "hard_predictions_t1 = reporting.generate_binary_at_k(risk_scores, percentages[0])\n",
    "hard_predictions_t2 = reporting.generate_binary_at_k(risk_scores, percentages[1])"
   ]
  },
  {
   "cell_type": "code",
   "execution_count": 26,
   "metadata": {
    "collapsed": false
   },
   "outputs": [
    {
     "data": {
      "image/png": "[encoded data removed]",
      "text/plain": [
       "<matplotlib.figure.Figure at 0x10e8f7f98>"
      ]
     },
     "metadata": {},
     "output_type": "display_data"
    },
    {
     "data": {
      "image/png": "[encoded data removed]",
      "text/plain": [
       "<matplotlib.figure.Figure at 0x10f267e48>"
      ]
     },
     "metadata": {},
     "output_type": "display_data"
    },
    {
     "data": {
      "image/png": "[encoded data removed]",
      "text/plain": [
       "<matplotlib.figure.Figure at 0x10ee72278>"
      ]
     },
     "metadata": {},
     "output_type": "display_data"
    }
   ],
   "source": [
    "# Compute confusion matrix\n",
    "class_names = ['not AOA', 'AOA']\n",
    "\n",
    "labels = ['.50 threshold', 'top {}%'.format(percentages[0]), 'top {}%'.format(percentages[1])]\n",
    "plots = zip([hard_predictions, hard_predictions_t1, hard_predictions_t2], labels)\n",
    "title = class_names[1]\n",
    "\n",
    "# Plot confusion matrix with counts\n",
    "for predictions, label in plots:\n",
    "    plt.figure()\n",
    "    reporting.build_confusion_matrix(\n",
    "    test.outcome, predictions, \n",
    "    class_names, \n",
    "    '{}: {}'.format(title, label))\n",
    "\n",
    "plt.show()"
   ]
  },
  {
   "cell_type": "code",
   "execution_count": 34,
   "metadata": {
    "collapsed": false
   },
   "outputs": [
    {
     "name": "stdout",
     "output_type": "stream",
     "text": [
      "<class 'sklearn.ensemble.forest.RandomForestClassifier'>\n"
     ]
    }
   ],
   "source": [
    "forest = pipeline_tools.extract_model_from_pipeline(grid_search)\n",
    "print(type(forest))"
   ]
  },
  {
   "cell_type": "code",
   "execution_count": 35,
   "metadata": {
    "collapsed": false
   },
   "outputs": [],
   "source": [
    "transformed_columns = pipeline_tools.get_transformed_columns(grid_search)"
   ]
  },
  {
   "cell_type": "code",
   "execution_count": 36,
   "metadata": {
    "collapsed": false
   },
   "outputs": [
    {
     "data": {
      "text/plain": [
       "Index(['bcpm_gpa_cumulative', 'bcpm_hours_cumulative', 'total_gpa_cumulative',\n",
       "       'bcpm_gpa_postbac', 'bcpm_hours_postbac', 'total_gpa_postbac',\n",
       "       'bcpm_a_counts', 'bcpm_b_counts', 'bcpm_c_counts', 'bcpm_d_counts',\n",
       "       'bcpm_f_counts', 'math_a_counts', 'math_b_counts', 'math_c_counts',\n",
       "       'math_d_counts', 'biol_a_counts', 'biol_b_counts', 'biol_c_counts',\n",
       "       'biol_d_counts', 'biol_f_counts', 'chem_a_counts', 'chem_b_counts',\n",
       "       'chem_c_counts', 'chem_d_counts', 'phys_a_counts', 'phys_b_counts',\n",
       "       'phys_c_counts', 'total_percentile', 'bio_percentile',\n",
       "       'phy_chem_percentile', 'count_mcat', 'parent_edu_score',\n",
       "       'median_income_zipcode', 'age_at_application',\n",
       "       'num_schools_accepted_to', 'appl_year_2007.0', 'appl_year_2008.0',\n",
       "       'appl_year_2009.0', 'appl_year_2010.0', 'appl_year_2011.0',\n",
       "       'appl_year_2012.0', 'appl_year_2013.0', 'total_gpa_soph_higher_1.0',\n",
       "       'total_gpa_soph_higher_nan', 'total_gpa_juni_higher_1.0',\n",
       "       'total_gpa_juni_higher_nan', 'total_gpa_seni_higher_1.0',\n",
       "       'total_gpa_seni_higher_nan', 'bcmp_gpa_soph_higher_1.0',\n",
       "       'bcmp_gpa_soph_higher_nan', 'bcmp_gpa_juni_higher_1.0',\n",
       "       'bcmp_gpa_juni_higher_nan', 'bcmp_gpa_seni_higher_1.0',\n",
       "       'bcmp_gpa_seni_higher_nan', 'did_postbac_1.0',\n",
       "       'attended_grad_school_1.0', 'mcat_type_nan', 'gender_M',\n",
       "       'college_top_25_Top 25', 'college_top_25_nan', 'is_disadvantaged_1.0',\n",
       "       'urm_Y', 'advanced_degree_Y', 'race_Asian', 'race_Asian Indian',\n",
       "       'race_Black or African American', 'race_Chinese', 'race_Filipino',\n",
       "       'race_Guamanian or Chamorro', 'race_Japanese', 'race_Korean',\n",
       "       'race_Other', 'race_Other Asian', 'race_Other Pacific Islander',\n",
       "       'race_Pakistani', 'race_Vietnamese', 'race_White', 'race_nan',\n",
       "       'exp_publications_1.0', 'exp_leadership_1.0', 'exp_athletics_1.0',\n",
       "       'exp_medical_1.0', 'exp_military_1.0', 'exp_research_1.0'],\n",
       "      dtype='object')"
      ]
     },
     "execution_count": 36,
     "metadata": {},
     "output_type": "execute_result"
    }
   ],
   "source": [
    "transformed_columns"
   ]
  },
  {
   "cell_type": "code",
   "execution_count": 31,
   "metadata": {
    "collapsed": false,
    "scrolled": true
   },
   "outputs": [
    {
     "name": "stdout",
     "output_type": "stream",
     "text": [
      "1: clerkship_honors_count = 0.267\n",
      "2: shelf_exam_above90_count = 0.071\n",
      "3: school_exam_above90_count = 0.039\n",
      "4: total_percentile = 0.038\n",
      "5: total_gpa_cumulative = 0.035\n",
      "6: bcpm_hours_cumulative = 0.035\n",
      "7: bio_percentile = 0.033\n",
      "8: phy_chem_percentile = 0.033\n",
      "9: bcpm_gpa_cumulative = 0.032\n",
      "10: bcpm_a_counts = 0.026\n",
      "11: biol_a_counts = 0.025\n",
      "12: chem_a_counts = 0.025\n",
      "13: total_num_schools_accepted_to = 0.023\n",
      "14: race_White = 0.022\n",
      "15: age_at_application = 0.020\n",
      "16: bcpm_b_counts = 0.019\n",
      "17: math_a_counts = 0.018\n",
      "18: biol_b_counts = 0.018\n",
      "19: phys_a_counts = 0.016\n",
      "20: chem_b_counts = 0.016\n",
      "21: math_b_counts = 0.009\n",
      "22: college_top_25_1.0 = 0.008\n",
      "23: bcmp_gpa_soph_higher_1.0 = 0.008\n",
      "24: phys_b_counts = 0.008\n",
      "25: bcmp_gpa_juni_higher_1.0 = 0.008\n",
      "26: shelf_exam_below65_count = 0.008\n",
      "27: gender_M = 0.007\n",
      "28: total_gpa_soph_higher_1.0 = 0.007\n",
      "29: appl_year_2011.0 = 0.007\n",
      "30: total_gpa_seni_higher_nan = 0.006\n",
      "31: total_gpa_juni_higher_1.0 = 0.006\n",
      "32: total_gpa_seni_higher_1.0 = 0.006\n",
      "33: appl_year_2013.0 = 0.005\n",
      "34: appl_year_2008.0 = 0.005\n",
      "35: bcmp_gpa_seni_higher_nan = 0.005\n",
      "36: appl_year_2009.0 = 0.005\n",
      "37: count_mcat = 0.005\n",
      "38: total_gpa_postbac = 0.005\n",
      "39: bcpm_hours_postbac = 0.005\n",
      "40: bcpm_gpa_postbac = 0.004\n",
      "41: appl_year_2012.0 = 0.004\n",
      "42: race_nan = 0.004\n",
      "43: appl_year_2007.0 = 0.004\n",
      "44: race_Chinese = 0.004\n",
      "45: bcmp_gpa_seni_higher_1.0 = 0.004\n",
      "46: bcpm_c_counts = 0.004\n",
      "47: appl_year_2010.0 = 0.004\n",
      "48: race_Asian Indian = 0.004\n",
      "49: school_exam_below65_count = 0.004\n",
      "50: bcmp_gpa_juni_higher_nan = 0.003\n",
      "51: bcmp_gpa_soph_higher_nan = 0.003\n",
      "52: chem_c_counts = 0.002\n",
      "53: advanced_degree_Y = 0.002\n",
      "54: attended_grad_school_1.0 = 0.002\n",
      "55: did_postbac_1.0 = 0.002\n",
      "56: is_disadvantaged_1.0 = 0.001\n",
      "57: race_Korean = 0.001\n",
      "58: urm_Y = 0.001\n",
      "59: race_Japanese = 0.001\n",
      "60: race_Asian = 0.001\n",
      "61: biol_c_counts = 0.001\n",
      "62: course_clerkships_failed_count = 0.001\n",
      "63: math_c_counts = 0.001\n",
      "64: race_Other Asian = 0.001\n",
      "65: total_gpa_juni_higher_nan = 0.001\n",
      "66: race_Pakistani = 0.001\n",
      "67: phys_c_counts = 0.001\n",
      "68: mcat_type_nan = 0.001\n",
      "69: total_gpa_soph_higher_nan = 0.000\n",
      "70: race_Black or African American = 0.000\n",
      "71: race_Other Pacific Islander = 0.000\n",
      "72: bcpm_d_counts = 0.000\n",
      "73: race_Other = 0.000\n",
      "74: race_Vietnamese = 0.000\n",
      "75: race_Filipino = 0.000\n",
      "76: math_d_counts = 0.000\n",
      "77: bcpm_f_counts = 0.000\n",
      "78: biol_f_counts = 0.000\n",
      "79: chem_d_counts = 0.000\n",
      "80: biol_d_counts = 0.000\n"
     ]
    }
   ],
   "source": [
    "importances, std, indices = reporting.compute_feature_importances_ensemble(\n",
    "    forest, transformed_columns)"
   ]
  },
  {
   "cell_type": "code",
   "execution_count": 1,
   "metadata": {
    "collapsed": false
   },
   "outputs": [
    {
     "ename": "NameError",
     "evalue": "name 'importances' is not defined",
     "output_type": "error",
     "traceback": [
      "\u001b[0;31m---------------------------------------------------------------------------\u001b[0m",
      "\u001b[0;31mNameError\u001b[0m                                 Traceback (most recent call last)",
      "\u001b[0;32m<ipython-input-1-5cd59f58ac08>\u001b[0m in \u001b[0;36m<module>\u001b[0;34m()\u001b[0m\n\u001b[0;32m----> 1\u001b[0;31m \u001b[0mimportances\u001b[0m\u001b[0;34m\u001b[0m\u001b[0m\n\u001b[0m",
      "\u001b[0;31mNameError\u001b[0m: name 'importances' is not defined"
     ]
    }
   ],
   "source": [
    "importances"
   ]
  },
  {
   "cell_type": "code",
   "execution_count": 32,
   "metadata": {
    "collapsed": false,
    "scrolled": false
   },
   "outputs": [
    {
     "data": {
      "image/png": "[encoded data removed]",
      "text/plain": [
       "<matplotlib.figure.Figure at 0x101e31160>"
      ]
     },
     "metadata": {},
     "output_type": "display_data"
    }
   ],
   "source": [
    "# Plot the feature importances of the forest\n",
    "plt.figure(figsize=(9,6))\n",
    "reporting.plot_feature_importances(\n",
    "    importances, std, indices, transformed_columns)"
   ]
  },
  {
   "cell_type": "code",
   "execution_count": 35,
   "metadata": {
    "collapsed": false
   },
   "outputs": [
    {
     "data": {
      "text/plain": [
       "<matplotlib.figure.Figure at 0x111b0b3c8>"
      ]
     },
     "metadata": {},
     "output_type": "display_data"
    },
    {
     "data": {
      "image/png": "[encoded data removed]",
      "text/plain": [
       "<matplotlib.figure.Figure at 0x111b13390>"
      ]
     },
     "metadata": {},
     "output_type": "display_data"
    }
   ],
   "source": [
    "outcome = 'AOA'\n",
    "features = 'including med school data'\n",
    "reporting.plot_precision_recall_n(y_test, risk_scores, '{}: {}'.format(outcome, features))"
   ]
  },
  {
   "cell_type": "code",
   "execution_count": null,
   "metadata": {
    "collapsed": true
   },
   "outputs": [],
   "source": [
    "# TODO: Figure out how to output to database\n",
    "# TODO: Figure out sklearn2pmml\n",
    "# TODO: Multiclass classification\n",
    "# TODO: Compare classifiers (logistic regression?)\n",
    "# TODO: Incorporate lime\n",
    "# TODO: Incorporate autosklearn?"
   ]
  }
 ],
 "metadata": {
  "kernelspec": {
   "display_name": "Environment (conda_edu_analytics)",
   "language": "python",
   "name": "conda_edu_analytics"
  }
 },
 "nbformat": 4,
 "nbformat_minor": 2
}
