{
 "cells": [
  {
   "cell_type": "markdown",
   "metadata": {},
   "source": [
    "## Imports"
   ]
  },
  {
   "cell_type": "code",
   "execution_count": 2,
   "metadata": {
    "collapsed": false
   },
   "outputs": [],
   "source": [
    "import pymysql.cursors\n",
    "import configparser\n",
    "import sqlalchemy\n",
    "import os, re"
   ]
  },
  {
   "cell_type": "code",
   "execution_count": 3,
   "metadata": {
    "collapsed": true
   },
   "outputs": [],
   "source": [
    "import pandas as pd\n",
    "import sklearn\n",
    "from sklearn.pipeline import Pipeline, make_pipeline, TransformerMixin\n",
    "from sklearn.model_selection import train_test_split, GridSearchCV\n",
    "from sklearn import preprocessing, ensemble, linear_model\n",
    "from sklearn.metrics import classification_report, confusion_matrix, precision_recall_curve"
   ]
  },
  {
   "cell_type": "code",
   "execution_count": 4,
   "metadata": {
    "collapsed": true
   },
   "outputs": [],
   "source": [
    "import matplotlib.pyplot as plt\n",
    "import numpy as np\n",
    "import itertools\n",
    "from collections import OrderedDict"
   ]
  },
  {
   "cell_type": "code",
   "execution_count": 5,
   "metadata": {
    "collapsed": false,
    "scrolled": true
   },
   "outputs": [
    {
     "name": "stdout",
     "output_type": "stream",
     "text": [
      "0.18.1\n",
      "0.19.2\n"
     ]
    }
   ],
   "source": [
    "print(sklearn.__version__)\n",
    "print(pd.__version__)"
   ]
  },
  {
   "cell_type": "markdown",
   "metadata": {},
   "source": [
    "## Functions"
   ]
  },
  {
   "cell_type": "markdown",
   "metadata": {},
   "source": [
    "### Connection functions"
   ]
  },
  {
   "cell_type": "code",
   "execution_count": 6,
   "metadata": {
    "collapsed": true
   },
   "outputs": [],
   "source": [
    "def connect_to_database(credentials_path, group):\n",
    "    reader = configparser.RawConfigParser()\n",
    "    reader.read(os.path.join(credentials_path, '.my.cnf'))\n",
    "    connection_string = 'mysql+pymysql://{user}:{password}@{host}:{port}/{dbname}'.format(\n",
    "        user = reader.get(group, 'user'),\n",
    "        password = reader.get(group, 'password'),\n",
    "        host = reader.get(group, 'host'),\n",
    "        port = reader.get(group, 'port'),\n",
    "        dbname = reader.get(group, 'database')\n",
    "    )\n",
    "    engine = sqlalchemy.create_engine(connection_string)\n",
    "    return engine"
   ]
  },
  {
   "cell_type": "markdown",
   "metadata": {},
   "source": [
    "### Data transformation functions"
   ]
  },
  {
   "cell_type": "code",
   "execution_count": 7,
   "metadata": {
    "collapsed": true
   },
   "outputs": [],
   "source": [
    "def convert_categorical(data):\n",
    "    binary_cols = set(col for col in data if (data[col].nunique() == 2 and not col.endswith('counts')))\n",
    "    string_cols = set(col for col in data if data[col].dtype == 'O')\n",
    "    categoricals = binary_cols.union(string_cols)\n",
    "    categoricals.add('appl_year')\n",
    "    data_categorical = data.astype({col: 'category' for col in categoricals})\n",
    "    return data_categorical"
   ]
  },
  {
   "cell_type": "code",
   "execution_count": 8,
   "metadata": {
    "collapsed": true
   },
   "outputs": [],
   "source": [
    "def get_data_for_modeling(engine, tbl_name):\n",
    "    get_table = 'select * from deidentified$model_data${}'.format(tbl_name)\n",
    "    model_matrix = pd.read_sql_query(get_table, engine)\n",
    "    model_matrix = model_matrix.set_index('study_id')\n",
    "    model_matrix = model_matrix.astype({'appl_year': int})\n",
    "    model_matrix = convert_categorical(model_matrix)\n",
    "    return model_matrix"
   ]
  },
  {
   "cell_type": "code",
   "execution_count": 9,
   "metadata": {
    "collapsed": true
   },
   "outputs": [],
   "source": [
    "def split_data(model_matrix, seed = 1100):\n",
    "    X, y = model_matrix.drop('outcome', axis = 1), model_matrix.outcome\n",
    "    X_train, X_test, y_train, y_test = train_test_split(X, y, \n",
    "                            test_size = 0.20, random_state = seed)\n",
    "    y_train, y_test = y_train.astype(int), y_test.astype(int)\n",
    "    return X_train, X_test, y_train, y_test"
   ]
  },
  {
   "cell_type": "markdown",
   "metadata": {},
   "source": [
    "### Pipeline functions"
   ]
  },
  {
   "cell_type": "code",
   "execution_count": 10,
   "metadata": {
    "collapsed": true
   },
   "outputs": [],
   "source": [
    "def extract_step_from_pipeline(cv_pipeline, step_name):\n",
    "    return cv_pipeline.best_estimator_.named_steps.get(step_name)"
   ]
  },
  {
   "cell_type": "code",
   "execution_count": 11,
   "metadata": {
    "collapsed": true
   },
   "outputs": [],
   "source": [
    "def describe_pipeline_steps(cv_pipeline):\n",
    "    return cv_pipeline.best_estimator_.named_steps.keys()"
   ]
  },
  {
   "cell_type": "code",
   "execution_count": 12,
   "metadata": {
    "collapsed": true
   },
   "outputs": [],
   "source": [
    "def extract_model_from_pipeline(cv_pipeline):\n",
    "    steps = describe_pipeline_steps(cv_pipeline)\n",
    "    pattern = \"(classifier|regressor)$\"\n",
    "    prog = re.compile(pattern)\n",
    "    model_step = [step for step in steps if bool(prog.search(step))]\n",
    "    return extract_step_from_pipeline(cv_pipeline, model_step[-1])"
   ]
  },
  {
   "cell_type": "code",
   "execution_count": 13,
   "metadata": {
    "collapsed": true
   },
   "outputs": [],
   "source": [
    "def get_transformed_columns(cv_pipeline, encoder_step, data):\n",
    "    return extract_step_from_pipeline(cv_pipeline, encoder_step).transform(data).columns"
   ]
  },
  {
   "cell_type": "markdown",
   "metadata": {},
   "source": [
    "### Plotting and reporting functions"
   ]
  },
  {
   "cell_type": "code",
   "execution_count": 14,
   "metadata": {
    "collapsed": true
   },
   "outputs": [],
   "source": [
    "def get_results(true, pred_prob, X):\n",
    "    true_vs_pred = list(zip(true, pred_prob))\n",
    "    results = pd.DataFrame(true_vs_pred, \n",
    "                           columns = [\"true\", \"predicted probability\"], index = X.index)\n",
    "    return results"
   ]
  },
  {
   "cell_type": "code",
   "execution_count": 15,
   "metadata": {
    "collapsed": true
   },
   "outputs": [],
   "source": [
    "def plot_confusion_matrix(cm, classes,\n",
    "                          normalize=False,\n",
    "                          title='Confusion matrix',\n",
    "                          cmap=plt.cm.Blues):\n",
    "    \"\"\"\n",
    "    This function prints and plots the confusion matrix.\n",
    "    Normalization can be applied by setting `normalize=True`.\n",
    "    \"\"\"\n",
    "    plt.imshow(cm, interpolation='nearest', cmap=cmap)\n",
    "    plt.title(title)\n",
    "    plt.colorbar()\n",
    "    tick_marks = np.arange(len(classes))\n",
    "    plt.xticks(tick_marks, classes, rotation=45)\n",
    "    plt.yticks(tick_marks, classes)\n",
    "\n",
    "    if normalize:\n",
    "        cm = cm.astype('float') / cm.sum(axis=1)[:, np.newaxis]\n",
    "        print(\"Normalized confusion matrix\")\n",
    "    else:\n",
    "        print('Confusion matrix, without normalization')\n",
    "\n",
    "    print(cm)\n",
    "\n",
    "    thresh = cm.max() / 2.\n",
    "    for i, j in itertools.product(range(cm.shape[0]), range(cm.shape[1])):\n",
    "        plt.text(j, i, cm[i, j],\n",
    "                 horizontalalignment=\"center\",\n",
    "                 color=\"white\" if cm[i, j] > thresh else \"black\")\n",
    "\n",
    "    plt.tight_layout()\n",
    "    plt.ylabel('True label')\n",
    "    plt.xlabel('Predicted label')"
   ]
  },
  {
   "cell_type": "code",
   "execution_count": 16,
   "metadata": {
    "collapsed": true
   },
   "outputs": [],
   "source": [
    "def build_and_plot_confusion_matrix(true, predicted, class_names, model_name):\n",
    "    # Compute confusion matrix\n",
    "    class_names = ['not AOA', 'AOA']\n",
    "    cnf_matrix = confusion_matrix(true, predicted)\n",
    "    np.set_printoptions(precision=2)\n",
    "\n",
    "    # Plot non-normalized confusion matrix\n",
    "    plot_confusion_matrix(cnf_matrix, \n",
    "                          classes = class_names,\n",
    "                          title = model_name)"
   ]
  },
  {
   "cell_type": "code",
   "execution_count": 17,
   "metadata": {
    "collapsed": true
   },
   "outputs": [],
   "source": [
    "def compute_feature_importances_ensemble(clf, transformed_columns):\n",
    "    importances = clf.feature_importances_\n",
    "    std = np.std([tree.feature_importances_ for tree in clf.estimators_],\n",
    "             axis=0)\n",
    "    indices = np.argsort(importances)[::-1]\n",
    "    n_cols = len(transformed_columns)\n",
    "\n",
    "    # Print the feature ranking\n",
    "    print(\"Feature ranking:\")\n",
    "    labeled_importances = OrderedDict(zip(\n",
    "        transformed_columns[indices], importances[indices]))\n",
    "\n",
    "    for feature, score in labeled_importances.items():\n",
    "        print(\"%s: (%f)\" % (feature, score))\n",
    "    \n",
    "    return importances, std, indices"
   ]
  },
  {
   "cell_type": "code",
   "execution_count": 18,
   "metadata": {
    "collapsed": true
   },
   "outputs": [],
   "source": [
    "def plot_feature_importances(importances, std, indices, transformed_columns, top_n = 15):\n",
    "    top_n_indices = indices[:top_n]\n",
    "    plt.title(\"Feature importances\")\n",
    "    plt.bar(range(top_n), importances[top_n_indices],\n",
    "       color=\"r\", yerr=std[top_n_indices], align=\"center\")\n",
    "    plt.xticks(range(top_n), transformed_columns[top_n_indices], rotation = 90)\n",
    "    plt.xlim([-1, top_n])\n",
    "    plt.show()"
   ]
  },
  {
   "cell_type": "code",
   "execution_count": 69,
   "metadata": {
    "collapsed": true
   },
   "outputs": [],
   "source": [
    "def generate_binary_at_k(y_scores, k):\n",
    "    cutoff_index = int(len(y_scores) * (k / 100.0))\n",
    "    indices = np.argsort(y_scores)[::-1]\n",
    "    cutoff = y_scores[indices][cutoff_index]\n",
    "    test_predictions_binary = [1 if y > cutoff else 0 for y in y_scores]\n",
    "    return test_predictions_binary\n",
    "\n",
    "def precision_at_k(y_true, y_scores, k):\n",
    "    preds_at_k = generate_binary_at_k(y_scores, k)\n",
    "    precision = precision_score(y_true, preds_at_k)\n",
    "    return precision"
   ]
  },
  {
   "cell_type": "code",
   "execution_count": 20,
   "metadata": {
    "collapsed": true
   },
   "outputs": [],
   "source": [
    "def plot_precision_recall_n(y_true, y_prob, model_name):\n",
    "    y_score = y_prob\n",
    "    precision_curve, recall_curve, pr_thresholds = precision_recall_curve(y_true, y_score)\n",
    "    precision_curve = precision_curve[:-1]\n",
    "    recall_curve = recall_curve[:-1]\n",
    "    pct_above_per_thresh = []\n",
    "    number_scored = len(y_score)\n",
    "    for value in pr_thresholds:\n",
    "        num_above_thresh = len(y_score[y_score>=value])\n",
    "        pct_above_thresh = num_above_thresh / float(number_scored)\n",
    "        pct_above_per_thresh.append(pct_above_thresh)\n",
    "    pct_above_per_thresh = np.array(pct_above_per_thresh)\n",
    "    \n",
    "    plt.clf()\n",
    "    fig, ax1 = plt.subplots()\n",
    "    ax1.plot(pct_above_per_thresh, precision_curve, 'b')\n",
    "    ax1.set_xlabel('percent of population')\n",
    "    ax1.set_ylabel('precision', color='b')\n",
    "    ax2 = ax1.twinx()\n",
    "    ax2.plot(pct_above_per_thresh, recall_curve, 'r')\n",
    "    ax2.set_ylabel('recall', color='r')\n",
    "    ax1.set_ylim([0,1])\n",
    "    ax1.set_ylim([0,1])\n",
    "    ax2.set_xlim([0,1])\n",
    "\n",
    "    plt.title(model_name)\n",
    "    plt.show()"
   ]
  },
  {
   "cell_type": "code",
   "execution_count": 21,
   "metadata": {
    "collapsed": true
   },
   "outputs": [],
   "source": [
    "def plot_pr_curve(y_true, y_prob, model_name):\n",
    "    precision, recall, _ = precision_recall_curve(y_true, y_prob)\n",
    "    auc = sklearn.metrics.roc_auc_score(y_true, y_prob)\n",
    "\n",
    "    # Plot Precision-Recall curve\n",
    "    plt.clf()\n",
    "    plt.plot(recall, precision, lw=2, color='navy',\n",
    "             label='Precision-Recall curve')\n",
    "    plt.xlabel('Recall')\n",
    "    plt.ylabel('Precision')\n",
    "    plt.ylim([0.0, 1.05])\n",
    "    plt.xlim([0.0, 1.0])\n",
    "    plt.title('Precision-Recall {}: AUC={:0.2f}'.format(model_name, auc))\n",
    "    plt.legend(loc=\"lower right\")\n",
    "    plt.show()"
   ]
  },
  {
   "cell_type": "markdown",
   "metadata": {},
   "source": [
    "## Custom transformers and scorers"
   ]
  },
  {
   "cell_type": "code",
   "execution_count": 22,
   "metadata": {
    "collapsed": false
   },
   "outputs": [],
   "source": [
    "class DummyEncoder(sklearn.base.BaseEstimator, TransformerMixin):\n",
    "\n",
    "    def __init__(self, columns=None):\n",
    "        self.columns = columns\n",
    "\n",
    "    def transform(self, X, y=None, **kwargs):\n",
    "        return pd.get_dummies(X, columns = self.columns, \n",
    "            drop_first = True, dummy_na = True)\n",
    "\n",
    "    def fit(self, X, y=None, **kwargs):\n",
    "        return self"
   ]
  },
  {
   "cell_type": "markdown",
   "metadata": {},
   "source": [
    "## Connect to database"
   ]
  },
  {
   "cell_type": "code",
   "execution_count": 23,
   "metadata": {
    "collapsed": false
   },
   "outputs": [],
   "source": [
    "group = 'edu_db_owner'\n",
    "credentials_path = '/Volumes/IIME/EDS/data/admissions/db_credentials'\n",
    "\n",
    "engine = connect_to_database(credentials_path, group)"
   ]
  },
  {
   "cell_type": "code",
   "execution_count": 24,
   "metadata": {
    "collapsed": false
   },
   "outputs": [],
   "source": [
    "# tbl_name = 'grades_gpa_mcat_other_features'\n",
    "tbl_name = 'grades_gpa_mcat_medschool'\n",
    "model_matrix = get_data_for_modeling(engine, tbl_name)"
   ]
  },
  {
   "cell_type": "code",
   "execution_count": 25,
   "metadata": {
    "collapsed": false
   },
   "outputs": [
    {
     "data": {
      "text/plain": [
       "(1218, 60)"
      ]
     },
     "execution_count": 25,
     "metadata": {},
     "output_type": "execute_result"
    }
   ],
   "source": [
    "model_matrix.shape"
   ]
  },
  {
   "cell_type": "markdown",
   "metadata": {},
   "source": [
    "## Prepare data for modeling"
   ]
  },
  {
   "cell_type": "code",
   "execution_count": 26,
   "metadata": {
    "collapsed": true
   },
   "outputs": [],
   "source": [
    "X_train, X_test, y_train, y_test = split_data(model_matrix)"
   ]
  },
  {
   "cell_type": "code",
   "execution_count": 27,
   "metadata": {
    "collapsed": false
   },
   "outputs": [],
   "source": [
    "param_grid = dict(\n",
    "    imputer__strategy= ['mean', 'median'],\n",
    "    randomforestclassifier__n_estimators= [10, 50, 100, 200, 500, 1000],\n",
    "    randomforestclassifier__max_depth= [1, 5, 10, 20, 50],\n",
    "    randomforestclassifier__max_features= ['sqrt', 'log2'],\n",
    "    randomforestclassifier__min_samples_split= [2, 5, 10])"
   ]
  },
  {
   "cell_type": "code",
   "execution_count": 28,
   "metadata": {
    "collapsed": true
   },
   "outputs": [],
   "source": [
    "pipeline = make_pipeline(DummyEncoder(), \n",
    "                         preprocessing.Imputer(), \n",
    "                         ensemble.RandomForestClassifier(random_state = 1100))"
   ]
  },
  {
   "cell_type": "code",
   "execution_count": 134,
   "metadata": {
    "collapsed": true
   },
   "outputs": [],
   "source": [
    "# grid_search = GridSearchCV(pipeline, cv = 5, param_grid = param_grid, \n",
    "#                           scoring = 'recall')"
   ]
  },
  {
   "cell_type": "code",
   "execution_count": 29,
   "metadata": {
    "collapsed": true
   },
   "outputs": [],
   "source": [
    "grid_search_auc = GridSearchCV(pipeline, cv = 5, param_grid = param_grid, \n",
    "                               scoring = 'roc_auc')"
   ]
  },
  {
   "cell_type": "code",
   "execution_count": 30,
   "metadata": {
    "collapsed": false
   },
   "outputs": [
    {
     "data": {
      "text/plain": [
       "GridSearchCV(cv=5, error_score='raise',\n",
       "       estimator=Pipeline(steps=[('dummyencoder', DummyEncoder(columns=None)), ('imputer', Imputer(axis=0, copy=True, missing_values='NaN', strategy='mean', verbose=0)), ('randomforestclassifier', RandomForestClassifier(bootstrap=True, class_weight=None, criterion='gini',\n",
       "            max_depth=None, max_features='auto', max_...imators=10, n_jobs=1, oob_score=False, random_state=1100,\n",
       "            verbose=0, warm_start=False))]),\n",
       "       fit_params={}, iid=True, n_jobs=1,\n",
       "       param_grid={'imputer__strategy': ['mean', 'median'], 'randomforestclassifier__n_estimators': [10, 50, 100, 200, 500, 1000], 'randomforestclassifier__max_depth': [1, 5, 10, 20, 50], 'randomforestclassifier__max_features': ['sqrt', 'log2'], 'randomforestclassifier__min_samples_split': [2, 5, 10]},\n",
       "       pre_dispatch='2*n_jobs', refit=True, return_train_score=True,\n",
       "       scoring='roc_auc', verbose=0)"
      ]
     },
     "execution_count": 30,
     "metadata": {},
     "output_type": "execute_result"
    }
   ],
   "source": [
    "grid_search_auc.fit(X_train, y_train)"
   ]
  },
  {
   "cell_type": "code",
   "execution_count": 72,
   "metadata": {
    "collapsed": true
   },
   "outputs": [],
   "source": [
    "risk_scores = grid_search_auc.predict_proba( X_test )\n",
    "hard_predictions = grid_search_auc.predict( X_test )"
   ]
  },
  {
   "cell_type": "code",
   "execution_count": 33,
   "metadata": {
    "collapsed": false
   },
   "outputs": [
    {
     "name": "stdout",
     "output_type": "stream",
     "text": [
      "0    825\n",
      "1    149\n",
      "dtype: int64\n",
      "0    202\n",
      "1     42\n",
      "dtype: int64\n"
     ]
    }
   ],
   "source": [
    "print(pd.Series(y_train).value_counts())\n",
    "print(pd.Series(y_test).value_counts())"
   ]
  },
  {
   "cell_type": "markdown",
   "metadata": {},
   "source": [
    "974 students in the training set \n",
    "- 825 not AOA\n",
    "- 149 AOA\n",
    "\n",
    "244 students in the test set\n",
    "- 202 not AOA\n",
    "- 42 AOA"
   ]
  },
  {
   "cell_type": "code",
   "execution_count": 73,
   "metadata": {
    "collapsed": false
   },
   "outputs": [
    {
     "data": {
      "text/html": [
       "<div>\n",
       "<table border=\"1\" class=\"dataframe\">\n",
       "  <thead>\n",
       "    <tr style=\"text-align: right;\">\n",
       "      <th></th>\n",
       "      <th>true</th>\n",
       "      <th>predicted probability</th>\n",
       "    </tr>\n",
       "    <tr>\n",
       "      <th>study_id</th>\n",
       "      <th></th>\n",
       "      <th></th>\n",
       "    </tr>\n",
       "  </thead>\n",
       "  <tbody>\n",
       "    <tr>\n",
       "      <th>a2b69ab1223b67c58aea757c6c7d1da5</th>\n",
       "      <td>0</td>\n",
       "      <td>0.301996</td>\n",
       "    </tr>\n",
       "    <tr>\n",
       "      <th>a44658486e4709986109c4d083fc2910</th>\n",
       "      <td>0</td>\n",
       "      <td>0.109354</td>\n",
       "    </tr>\n",
       "    <tr>\n",
       "      <th>49d1a1ac19aa5c0825003fd934be0a73</th>\n",
       "      <td>0</td>\n",
       "      <td>0.080218</td>\n",
       "    </tr>\n",
       "    <tr>\n",
       "      <th>753ce5f108806745c6f57a2f9e599479</th>\n",
       "      <td>0</td>\n",
       "      <td>0.043794</td>\n",
       "    </tr>\n",
       "    <tr>\n",
       "      <th>a22bcffb888ffd75feefc7a54e289c30</th>\n",
       "      <td>0</td>\n",
       "      <td>0.023396</td>\n",
       "    </tr>\n",
       "    <tr>\n",
       "      <th>1160377770e2d2aa893044b9e95d8231</th>\n",
       "      <td>0</td>\n",
       "      <td>0.063744</td>\n",
       "    </tr>\n",
       "    <tr>\n",
       "      <th>c2a6a067f480433b18489914bf3231f8</th>\n",
       "      <td>0</td>\n",
       "      <td>0.057923</td>\n",
       "    </tr>\n",
       "    <tr>\n",
       "      <th>20c17adabd62b2e4776f3f7a285a5583</th>\n",
       "      <td>0</td>\n",
       "      <td>0.146982</td>\n",
       "    </tr>\n",
       "    <tr>\n",
       "      <th>1f512f3048c6323922763e57df395655</th>\n",
       "      <td>0</td>\n",
       "      <td>0.025510</td>\n",
       "    </tr>\n",
       "    <tr>\n",
       "      <th>2330d5d074d23c52869dfc3d0d9d10f8</th>\n",
       "      <td>0</td>\n",
       "      <td>0.080647</td>\n",
       "    </tr>\n",
       "    <tr>\n",
       "      <th>4a83358e93af8f58dbf607f5662c40c5</th>\n",
       "      <td>0</td>\n",
       "      <td>0.101639</td>\n",
       "    </tr>\n",
       "    <tr>\n",
       "      <th>954947718dc642ea005cb8aec929e6cc</th>\n",
       "      <td>1</td>\n",
       "      <td>0.375819</td>\n",
       "    </tr>\n",
       "    <tr>\n",
       "      <th>536288ee05b3b75cb7688ca8537f4d42</th>\n",
       "      <td>0</td>\n",
       "      <td>0.038712</td>\n",
       "    </tr>\n",
       "    <tr>\n",
       "      <th>caff085285ea7cc3167c633ea2b36e19</th>\n",
       "      <td>0</td>\n",
       "      <td>0.158012</td>\n",
       "    </tr>\n",
       "    <tr>\n",
       "      <th>49a0f4be14edbfa35a01ecf6fe27f8cc</th>\n",
       "      <td>0</td>\n",
       "      <td>0.066084</td>\n",
       "    </tr>\n",
       "    <tr>\n",
       "      <th>00f7429e4cd716f7ffa2f53880bf18d9</th>\n",
       "      <td>0</td>\n",
       "      <td>0.079903</td>\n",
       "    </tr>\n",
       "    <tr>\n",
       "      <th>be3278350ddb77909876a3836eda32bb</th>\n",
       "      <td>0</td>\n",
       "      <td>0.086913</td>\n",
       "    </tr>\n",
       "    <tr>\n",
       "      <th>c0bef0f4bbcba415d032b48bafdc1220</th>\n",
       "      <td>1</td>\n",
       "      <td>0.595721</td>\n",
       "    </tr>\n",
       "    <tr>\n",
       "      <th>e9612a5f524c3afddc8275aa233c26fb</th>\n",
       "      <td>0</td>\n",
       "      <td>0.179663</td>\n",
       "    </tr>\n",
       "    <tr>\n",
       "      <th>5c64136b69883c72761ad9c0a1644a67</th>\n",
       "      <td>0</td>\n",
       "      <td>0.050297</td>\n",
       "    </tr>\n",
       "    <tr>\n",
       "      <th>e33b900014f8c3250d0976d4792c5ed6</th>\n",
       "      <td>1</td>\n",
       "      <td>0.170163</td>\n",
       "    </tr>\n",
       "    <tr>\n",
       "      <th>0efe05df8029739ca2fa8720abcc1dc1</th>\n",
       "      <td>0</td>\n",
       "      <td>0.050544</td>\n",
       "    </tr>\n",
       "    <tr>\n",
       "      <th>c581e0002be22aaf09a2ca342dfe8ad4</th>\n",
       "      <td>0</td>\n",
       "      <td>0.059013</td>\n",
       "    </tr>\n",
       "    <tr>\n",
       "      <th>913b09255f8da8c4cb1bad7dd7fe0085</th>\n",
       "      <td>0</td>\n",
       "      <td>0.088515</td>\n",
       "    </tr>\n",
       "    <tr>\n",
       "      <th>8c884ca3c5275e1f8b6fdca266ed987e</th>\n",
       "      <td>0</td>\n",
       "      <td>0.068596</td>\n",
       "    </tr>\n",
       "    <tr>\n",
       "      <th>e31f564ad72188a8d3200e81634a7fb4</th>\n",
       "      <td>0</td>\n",
       "      <td>0.018980</td>\n",
       "    </tr>\n",
       "    <tr>\n",
       "      <th>38b00f0fbb87e99fa4b57e736d1badf2</th>\n",
       "      <td>0</td>\n",
       "      <td>0.349185</td>\n",
       "    </tr>\n",
       "    <tr>\n",
       "      <th>bf5fecb7bc5f5f0bf16388e2dea050aa</th>\n",
       "      <td>0</td>\n",
       "      <td>0.041581</td>\n",
       "    </tr>\n",
       "    <tr>\n",
       "      <th>e447105c0f2ad52bcac609ca19abb6bf</th>\n",
       "      <td>0</td>\n",
       "      <td>0.061198</td>\n",
       "    </tr>\n",
       "    <tr>\n",
       "      <th>570fb9ef4a14ae66b5315b2e09035993</th>\n",
       "      <td>0</td>\n",
       "      <td>0.055471</td>\n",
       "    </tr>\n",
       "    <tr>\n",
       "      <th>...</th>\n",
       "      <td>...</td>\n",
       "      <td>...</td>\n",
       "    </tr>\n",
       "    <tr>\n",
       "      <th>b2c86404fc649e18315bc34e15bc7979</th>\n",
       "      <td>0</td>\n",
       "      <td>0.060993</td>\n",
       "    </tr>\n",
       "    <tr>\n",
       "      <th>9af8def123dd56db71ed9e8c3e2ed2c0</th>\n",
       "      <td>1</td>\n",
       "      <td>0.382587</td>\n",
       "    </tr>\n",
       "    <tr>\n",
       "      <th>58860861e8b7646b31532c01b6bf20f3</th>\n",
       "      <td>0</td>\n",
       "      <td>0.111414</td>\n",
       "    </tr>\n",
       "    <tr>\n",
       "      <th>2b90ae093ce0e33b59f45ac95125239b</th>\n",
       "      <td>0</td>\n",
       "      <td>0.042348</td>\n",
       "    </tr>\n",
       "    <tr>\n",
       "      <th>b15a9e422cd6f8c8c3d36fe81fba7229</th>\n",
       "      <td>0</td>\n",
       "      <td>0.030907</td>\n",
       "    </tr>\n",
       "    <tr>\n",
       "      <th>0ba43c5ef821df6b13f8148f0c3eefeb</th>\n",
       "      <td>0</td>\n",
       "      <td>0.105657</td>\n",
       "    </tr>\n",
       "    <tr>\n",
       "      <th>73719c23c1ce2d2d28716a817bca1743</th>\n",
       "      <td>0</td>\n",
       "      <td>0.063709</td>\n",
       "    </tr>\n",
       "    <tr>\n",
       "      <th>0529b8c8ec6faca71764a38942536aaa</th>\n",
       "      <td>0</td>\n",
       "      <td>0.097131</td>\n",
       "    </tr>\n",
       "    <tr>\n",
       "      <th>cc2b156730dbf61b8c433f24aaf7aef5</th>\n",
       "      <td>0</td>\n",
       "      <td>0.077646</td>\n",
       "    </tr>\n",
       "    <tr>\n",
       "      <th>4c874758d272804436b63f31063f2994</th>\n",
       "      <td>0</td>\n",
       "      <td>0.102367</td>\n",
       "    </tr>\n",
       "    <tr>\n",
       "      <th>8cd5f5bf275e111e23cc55126068ab0f</th>\n",
       "      <td>0</td>\n",
       "      <td>0.038842</td>\n",
       "    </tr>\n",
       "    <tr>\n",
       "      <th>9a8ed8864f83fdd121e41f2e112a8484</th>\n",
       "      <td>0</td>\n",
       "      <td>0.321109</td>\n",
       "    </tr>\n",
       "    <tr>\n",
       "      <th>465e3eec971f30ced8cacbfd80fd21aa</th>\n",
       "      <td>0</td>\n",
       "      <td>0.062321</td>\n",
       "    </tr>\n",
       "    <tr>\n",
       "      <th>13075fa3f81396281a8c107a3bbbf69f</th>\n",
       "      <td>0</td>\n",
       "      <td>0.084314</td>\n",
       "    </tr>\n",
       "    <tr>\n",
       "      <th>11be1ff0bd5a4cad90a2b00ebd3ebc16</th>\n",
       "      <td>0</td>\n",
       "      <td>0.060409</td>\n",
       "    </tr>\n",
       "    <tr>\n",
       "      <th>4115b5eb634db94dc09b0572fe501073</th>\n",
       "      <td>0</td>\n",
       "      <td>0.022982</td>\n",
       "    </tr>\n",
       "    <tr>\n",
       "      <th>b35829f6d2f55e95e6d25fee5681a27d</th>\n",
       "      <td>0</td>\n",
       "      <td>0.194692</td>\n",
       "    </tr>\n",
       "    <tr>\n",
       "      <th>77862ee7f6f0e2433d9510f0edc041b4</th>\n",
       "      <td>0</td>\n",
       "      <td>0.252181</td>\n",
       "    </tr>\n",
       "    <tr>\n",
       "      <th>a795a975d764d00002fbef5bc59d09ff</th>\n",
       "      <td>0</td>\n",
       "      <td>0.031601</td>\n",
       "    </tr>\n",
       "    <tr>\n",
       "      <th>d19d8d9e5cd78c1501347c83aae0b43a</th>\n",
       "      <td>0</td>\n",
       "      <td>0.060684</td>\n",
       "    </tr>\n",
       "    <tr>\n",
       "      <th>91e255bc0b2358a6ae24471f0954e3b0</th>\n",
       "      <td>1</td>\n",
       "      <td>0.427758</td>\n",
       "    </tr>\n",
       "    <tr>\n",
       "      <th>f5dff911ca7838d735b999ecb13c30b3</th>\n",
       "      <td>0</td>\n",
       "      <td>0.231900</td>\n",
       "    </tr>\n",
       "    <tr>\n",
       "      <th>ee3c907a2edb3c19441c6f10d81d22c4</th>\n",
       "      <td>0</td>\n",
       "      <td>0.040888</td>\n",
       "    </tr>\n",
       "    <tr>\n",
       "      <th>3ab8a5833deff8f9deea74f7ab4865e0</th>\n",
       "      <td>0</td>\n",
       "      <td>0.458265</td>\n",
       "    </tr>\n",
       "    <tr>\n",
       "      <th>82a8055ba96bda4f39d20d75299e5696</th>\n",
       "      <td>1</td>\n",
       "      <td>0.603667</td>\n",
       "    </tr>\n",
       "    <tr>\n",
       "      <th>bfada0112cc52bbf815ae5acac8c41a0</th>\n",
       "      <td>0</td>\n",
       "      <td>0.014402</td>\n",
       "    </tr>\n",
       "    <tr>\n",
       "      <th>cc2ff1ad6b1c456f93d49469077553a8</th>\n",
       "      <td>0</td>\n",
       "      <td>0.081275</td>\n",
       "    </tr>\n",
       "    <tr>\n",
       "      <th>d93b207130a77df60bc30d201652725e</th>\n",
       "      <td>0</td>\n",
       "      <td>0.158497</td>\n",
       "    </tr>\n",
       "    <tr>\n",
       "      <th>2b81c470b8564bb359557b2514243660</th>\n",
       "      <td>0</td>\n",
       "      <td>0.144467</td>\n",
       "    </tr>\n",
       "    <tr>\n",
       "      <th>49cfa50288b091bff492055103bae9bb</th>\n",
       "      <td>0</td>\n",
       "      <td>0.204078</td>\n",
       "    </tr>\n",
       "  </tbody>\n",
       "</table>\n",
       "<p>244 rows × 2 columns</p>\n",
       "</div>"
      ],
      "text/plain": [
       "                                  true  predicted probability\n",
       "study_id                                                     \n",
       "a2b69ab1223b67c58aea757c6c7d1da5     0               0.301996\n",
       "a44658486e4709986109c4d083fc2910     0               0.109354\n",
       "49d1a1ac19aa5c0825003fd934be0a73     0               0.080218\n",
       "753ce5f108806745c6f57a2f9e599479     0               0.043794\n",
       "a22bcffb888ffd75feefc7a54e289c30     0               0.023396\n",
       "1160377770e2d2aa893044b9e95d8231     0               0.063744\n",
       "c2a6a067f480433b18489914bf3231f8     0               0.057923\n",
       "20c17adabd62b2e4776f3f7a285a5583     0               0.146982\n",
       "1f512f3048c6323922763e57df395655     0               0.025510\n",
       "2330d5d074d23c52869dfc3d0d9d10f8     0               0.080647\n",
       "4a83358e93af8f58dbf607f5662c40c5     0               0.101639\n",
       "954947718dc642ea005cb8aec929e6cc     1               0.375819\n",
       "536288ee05b3b75cb7688ca8537f4d42     0               0.038712\n",
       "caff085285ea7cc3167c633ea2b36e19     0               0.158012\n",
       "49a0f4be14edbfa35a01ecf6fe27f8cc     0               0.066084\n",
       "00f7429e4cd716f7ffa2f53880bf18d9     0               0.079903\n",
       "be3278350ddb77909876a3836eda32bb     0               0.086913\n",
       "c0bef0f4bbcba415d032b48bafdc1220     1               0.595721\n",
       "e9612a5f524c3afddc8275aa233c26fb     0               0.179663\n",
       "5c64136b69883c72761ad9c0a1644a67     0               0.050297\n",
       "e33b900014f8c3250d0976d4792c5ed6     1               0.170163\n",
       "0efe05df8029739ca2fa8720abcc1dc1     0               0.050544\n",
       "c581e0002be22aaf09a2ca342dfe8ad4     0               0.059013\n",
       "913b09255f8da8c4cb1bad7dd7fe0085     0               0.088515\n",
       "8c884ca3c5275e1f8b6fdca266ed987e     0               0.068596\n",
       "e31f564ad72188a8d3200e81634a7fb4     0               0.018980\n",
       "38b00f0fbb87e99fa4b57e736d1badf2     0               0.349185\n",
       "bf5fecb7bc5f5f0bf16388e2dea050aa     0               0.041581\n",
       "e447105c0f2ad52bcac609ca19abb6bf     0               0.061198\n",
       "570fb9ef4a14ae66b5315b2e09035993     0               0.055471\n",
       "...                                ...                    ...\n",
       "b2c86404fc649e18315bc34e15bc7979     0               0.060993\n",
       "9af8def123dd56db71ed9e8c3e2ed2c0     1               0.382587\n",
       "58860861e8b7646b31532c01b6bf20f3     0               0.111414\n",
       "2b90ae093ce0e33b59f45ac95125239b     0               0.042348\n",
       "b15a9e422cd6f8c8c3d36fe81fba7229     0               0.030907\n",
       "0ba43c5ef821df6b13f8148f0c3eefeb     0               0.105657\n",
       "73719c23c1ce2d2d28716a817bca1743     0               0.063709\n",
       "0529b8c8ec6faca71764a38942536aaa     0               0.097131\n",
       "cc2b156730dbf61b8c433f24aaf7aef5     0               0.077646\n",
       "4c874758d272804436b63f31063f2994     0               0.102367\n",
       "8cd5f5bf275e111e23cc55126068ab0f     0               0.038842\n",
       "9a8ed8864f83fdd121e41f2e112a8484     0               0.321109\n",
       "465e3eec971f30ced8cacbfd80fd21aa     0               0.062321\n",
       "13075fa3f81396281a8c107a3bbbf69f     0               0.084314\n",
       "11be1ff0bd5a4cad90a2b00ebd3ebc16     0               0.060409\n",
       "4115b5eb634db94dc09b0572fe501073     0               0.022982\n",
       "b35829f6d2f55e95e6d25fee5681a27d     0               0.194692\n",
       "77862ee7f6f0e2433d9510f0edc041b4     0               0.252181\n",
       "a795a975d764d00002fbef5bc59d09ff     0               0.031601\n",
       "d19d8d9e5cd78c1501347c83aae0b43a     0               0.060684\n",
       "91e255bc0b2358a6ae24471f0954e3b0     1               0.427758\n",
       "f5dff911ca7838d735b999ecb13c30b3     0               0.231900\n",
       "ee3c907a2edb3c19441c6f10d81d22c4     0               0.040888\n",
       "3ab8a5833deff8f9deea74f7ab4865e0     0               0.458265\n",
       "82a8055ba96bda4f39d20d75299e5696     1               0.603667\n",
       "bfada0112cc52bbf815ae5acac8c41a0     0               0.014402\n",
       "cc2ff1ad6b1c456f93d49469077553a8     0               0.081275\n",
       "d93b207130a77df60bc30d201652725e     0               0.158497\n",
       "2b81c470b8564bb359557b2514243660     0               0.144467\n",
       "49cfa50288b091bff492055103bae9bb     0               0.204078\n",
       "\n",
       "[244 rows x 2 columns]"
      ]
     },
     "execution_count": 73,
     "metadata": {},
     "output_type": "execute_result"
    }
   ],
   "source": [
    "get_results(y_test, risk_scores[:, 1], X_test)"
   ]
  },
  {
   "cell_type": "code",
   "execution_count": 75,
   "metadata": {
    "collapsed": false
   },
   "outputs": [],
   "source": [
    "hard_predictions_15_pct = generate_binary_at_k(risk_scores[:,1], 15)\n",
    "hard_predictions_20_pct = generate_binary_at_k(risk_scores[:,1], 20)"
   ]
  },
  {
   "cell_type": "code",
   "execution_count": 76,
   "metadata": {
    "collapsed": false
   },
   "outputs": [
    {
     "name": "stdout",
     "output_type": "stream",
     "text": [
      "Confusion matrix, without normalization\n",
      "[[198   4]\n",
      " [ 28  14]]\n",
      "Confusion matrix, without normalization\n",
      "[[192  10]\n",
      " [ 16  26]]\n",
      "Confusion matrix, without normalization\n",
      "[[186  16]\n",
      " [ 10  32]]\n"
     ]
    },
    {
     "data": {
      "image/png": "[encoded data removed]",
      "text/plain": [
       "<matplotlib.figure.Figure at 0x10cc98128>"
      ]
     },
     "metadata": {},
     "output_type": "display_data"
    },
    {
     "data": {
      "image/png": "[encoded data removed]",
      "text/plain": [
       "<matplotlib.figure.Figure at 0x118be4588>"
      ]
     },
     "metadata": {},
     "output_type": "display_data"
    },
    {
     "data": {
      "image/png": "[encoded data removed]",
      "text/plain": [
       "<matplotlib.figure.Figure at 0x1183de080>"
      ]
     },
     "metadata": {},
     "output_type": "display_data"
    }
   ],
   "source": [
    "# Compute confusion matrix\n",
    "class_names = ['not AOA', 'AOA']\n",
    "\n",
    "# Plot confusion matrix with counts\n",
    "plt.figure()\n",
    "build_and_plot_confusion_matrix(\n",
    "    y_test, hard_predictions,\n",
    "    class_names, 'AOA: .50 threshold')\n",
    "\n",
    "plt.figure()\n",
    "build_and_plot_confusion_matrix(\n",
    "    y_test, hard_predictions_15_pct,\n",
    "    class_names, 'AOA: top 15%')\n",
    "\n",
    "plt.figure()\n",
    "build_and_plot_confusion_matrix(\n",
    "    y_test, hard_predictions_20_pct,\n",
    "    class_names, 'AOA: top 20%')\n",
    "plt.show()"
   ]
  },
  {
   "cell_type": "code",
   "execution_count": 37,
   "metadata": {
    "collapsed": false
   },
   "outputs": [
    {
     "name": "stdout",
     "output_type": "stream",
     "text": [
      "dict_keys(['dummyencoder', 'imputer', 'randomforestclassifier'])\n",
      "<class 'sklearn.ensemble.forest.RandomForestClassifier'>\n"
     ]
    }
   ],
   "source": [
    "print(describe_pipeline_steps(grid_search_auc))\n",
    "forest = extract_model_from_pipeline(grid_search_auc)\n",
    "print(type(forest))"
   ]
  },
  {
   "cell_type": "code",
   "execution_count": 38,
   "metadata": {
    "collapsed": false
   },
   "outputs": [],
   "source": [
    "transformed_columns = get_transformed_columns(grid_search_auc, 'dummyencoder', X_train)"
   ]
  },
  {
   "cell_type": "code",
   "execution_count": 39,
   "metadata": {
    "collapsed": false,
    "scrolled": true
   },
   "outputs": [
    {
     "name": "stdout",
     "output_type": "stream",
     "text": [
      "Feature ranking:\n",
      "clerkship_honors_count: (0.335762)\n",
      "shelf_exam_above90_count: (0.102337)\n",
      "school_exam_above90_count: (0.052313)\n",
      "total_percentile: (0.030811)\n",
      "total_gpa_cumulative: (0.029098)\n",
      "race_White: (0.028538)\n",
      "bcpm_hours_cumulative: (0.028125)\n",
      "bcpm_gpa_cumulative: (0.027336)\n",
      "phy_chem_percentile: (0.025513)\n",
      "bio_percentile: (0.024394)\n",
      "total_num_schools_accepted_to: (0.021054)\n",
      "bcpm_a_counts: (0.020897)\n",
      "chem_a_counts: (0.019956)\n",
      "biol_a_counts: (0.016670)\n",
      "biol_b_counts: (0.015843)\n",
      "age_at_application: (0.015095)\n",
      "bcpm_b_counts: (0.014358)\n",
      "math_a_counts: (0.013121)\n",
      "phys_a_counts: (0.012798)\n",
      "school_exam_below65_count: (0.010467)\n",
      "chem_b_counts: (0.009977)\n",
      "shelf_exam_below65_count: (0.009866)\n",
      "math_b_counts: (0.007247)\n",
      "phys_b_counts: (0.006752)\n",
      "total_gpa_postbac: (0.006466)\n",
      "bcmp_gpa_juni_higher_1.0: (0.005217)\n",
      "bcpm_gpa_postbac: (0.005211)\n",
      "appl_year_2011.0: (0.004678)\n",
      "total_gpa_juni_higher_1.0: (0.004462)\n",
      "total_gpa_seni_higher_nan: (0.004438)\n",
      "bcmp_gpa_seni_higher_nan: (0.004384)\n",
      "bcmp_gpa_soph_higher_1.0: (0.004326)\n",
      "bcpm_hours_postbac: (0.004210)\n",
      "gender_M: (0.004180)\n",
      "college_top_25_1.0: (0.004168)\n",
      "appl_year_2013.0: (0.004086)\n",
      "race_Chinese: (0.003903)\n",
      "count_mcat: (0.003873)\n",
      "appl_year_2007.0: (0.003821)\n",
      "appl_year_2008.0: (0.003768)\n",
      "bcpm_c_counts: (0.003340)\n",
      "race_nan: (0.003330)\n",
      "appl_year_2009.0: (0.003226)\n",
      "total_gpa_seni_higher_1.0: (0.002918)\n",
      "bcmp_gpa_juni_higher_nan: (0.002896)\n",
      "appl_year_2010.0: (0.002878)\n",
      "bcmp_gpa_seni_higher_1.0: (0.002802)\n",
      "appl_year_2012.0: (0.002664)\n",
      "total_gpa_soph_higher_1.0: (0.002464)\n",
      "chem_c_counts: (0.002166)\n",
      "race_Asian Indian: (0.002062)\n",
      "did_postbac_1.0: (0.002041)\n",
      "bcmp_gpa_soph_higher_nan: (0.001893)\n",
      "attended_grad_school_1.0: (0.001771)\n",
      "advanced_degree_Y: (0.001495)\n",
      "race_Korean: (0.001366)\n",
      "urm_Y: (0.001275)\n",
      "math_c_counts: (0.001143)\n",
      "is_disadvantaged_1.0: (0.001138)\n",
      "course_clerkships_failed_count: (0.001118)\n",
      "race_Japanese: (0.001082)\n",
      "race_Asian: (0.001010)\n",
      "total_gpa_juni_higher_nan: (0.000876)\n",
      "biol_c_counts: (0.000662)\n",
      "race_Other Asian: (0.000658)\n",
      "phys_c_counts: (0.000642)\n",
      "math_d_counts: (0.000532)\n",
      "mcat_type_nan: (0.000500)\n",
      "race_Pakistani: (0.000233)\n",
      "total_gpa_soph_higher_nan: (0.000165)\n",
      "race_Other Pacific Islander: (0.000049)\n",
      "race_Black or African American: (0.000037)\n",
      "race_Filipino: (0.000028)\n",
      "biol_f_counts: (0.000011)\n",
      "bcpm_d_counts: (0.000010)\n",
      "race_Other: (0.000000)\n",
      "race_Guamanian or Chamorro: (0.000000)\n",
      "bcpm_f_counts: (0.000000)\n",
      "race_Vietnamese: (0.000000)\n",
      "appl_year_nan: (0.000000)\n",
      "math_f_counts: (0.000000)\n",
      "biol_d_counts: (0.000000)\n",
      "advanced_degree_nan: (0.000000)\n",
      "chem_d_counts: (0.000000)\n",
      "urm_nan: (0.000000)\n",
      "phys_d_counts: (0.000000)\n",
      "phys_f_counts: (0.000000)\n",
      "is_disadvantaged_nan: (0.000000)\n",
      "college_top_25_nan: (0.000000)\n",
      "gender_nan: (0.000000)\n",
      "attended_grad_school_nan: (0.000000)\n",
      "did_postbac_nan: (0.000000)\n",
      "chem_f_counts: (0.000000)\n"
     ]
    }
   ],
   "source": [
    "importances, std, indices = compute_feature_importances_ensemble(forest, transformed_columns)"
   ]
  },
  {
   "cell_type": "code",
   "execution_count": 40,
   "metadata": {
    "collapsed": false,
    "scrolled": false
   },
   "outputs": [
    {
     "data": {
      "image/png": "[encoded data removed]",
      "text/plain": [
       "<matplotlib.figure.Figure at 0x10cc3d908>"
      ]
     },
     "metadata": {},
     "output_type": "display_data"
    }
   ],
   "source": [
    "# Plot the feature importances of the forest\n",
    "plt.figure(figsize=(9,6))\n",
    "plot_feature_importances(importances, std, indices, transformed_columns)"
   ]
  },
  {
   "cell_type": "code",
   "execution_count": 41,
   "metadata": {
    "collapsed": false
   },
   "outputs": [
    {
     "data": {
      "text/plain": [
       "<matplotlib.figure.Figure at 0x10cc3d0f0>"
      ]
     },
     "metadata": {},
     "output_type": "display_data"
    },
    {
     "data": {
      "image/png": "[encoded data removed]",
      "text/plain": [
       "<matplotlib.figure.Figure at 0x10cc5a710>"
      ]
     },
     "metadata": {},
     "output_type": "display_data"
    }
   ],
   "source": [
    "plot_precision_recall_n(y_test, risk_scores[:,1], 'AOA: Random Forest')"
   ]
  },
  {
   "cell_type": "code",
   "execution_count": 42,
   "metadata": {
    "collapsed": false
   },
   "outputs": [
    {
     "data": {
      "image/png": "[encoded data removed]",
      "text/plain": [
       "<matplotlib.figure.Figure at 0x10cc39470>"
      ]
     },
     "metadata": {},
     "output_type": "display_data"
    }
   ],
   "source": [
    "plot_pr_curve(y_test, risk_scores[:,1], 'AOA Random Forest')"
   ]
  },
  {
   "cell_type": "code",
   "execution_count": null,
   "metadata": {
    "collapsed": true
   },
   "outputs": [],
   "source": [
    "# TODO: Multiclass classification\n",
    "# TODO: Compare classifiers (logistic regression?)\n",
    "# TODO: Incorporate lime\n",
    "# TODO: Incorporate autosklearn?"
   ]
  }
 ],
 "metadata": {
  "kernelspec": {
   "display_name": "Environment (conda_edu_analytics)",
   "language": "python",
   "name": "conda_edu_analytics"
  }
 },
 "nbformat": 4,
 "nbformat_minor": 2
}
