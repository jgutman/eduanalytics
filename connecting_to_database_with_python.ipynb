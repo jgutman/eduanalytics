{
 "cells": [
  {
   "cell_type": "markdown",
   "metadata": {},
   "source": [
    "## Imports"
   ]
  },
  {
   "cell_type": "code",
   "execution_count": 3,
   "metadata": {
    "collapsed": false
   },
   "outputs": [],
   "source": [
    "import pymysql.cursors\n",
    "import configparser\n",
    "import sqlalchemy\n",
    "import os"
   ]
  },
  {
   "cell_type": "code",
   "execution_count": 70,
   "metadata": {
    "collapsed": true
   },
   "outputs": [],
   "source": [
    "import pandas as pd\n",
    "import sklearn\n",
    "from sklearn.pipeline import Pipeline, make_pipeline, TransformerMixin\n",
    "from sklearn.model_selection import train_test_split, GridSearchCV\n",
    "from sklearn import preprocessing, ensemble, linear_model"
   ]
  },
  {
   "cell_type": "code",
   "execution_count": 16,
   "metadata": {
    "collapsed": false
   },
   "outputs": [
    {
     "name": "stdout",
     "output_type": "stream",
     "text": [
      "0.18.1\n",
      "0.19.2\n"
     ]
    }
   ],
   "source": [
    "print(sklearn.__version__)\n",
    "print(pd.__version__)"
   ]
  },
  {
   "cell_type": "markdown",
   "metadata": {},
   "source": [
    "## Functions"
   ]
  },
  {
   "cell_type": "code",
   "execution_count": 7,
   "metadata": {
    "collapsed": true
   },
   "outputs": [],
   "source": [
    "def connect_to_database(credentials_path, group):\n",
    "    reader = configparser.RawConfigParser()\n",
    "    reader.read(os.path.join(credentials_path, '.my.cnf'))\n",
    "    connection_string = 'mysql+pymysql://{user}:{password}@{host}:{port}/{dbname}'.format(\n",
    "        user = reader.get(group, 'user'),\n",
    "        password = reader.get(group, 'password'),\n",
    "        host = reader.get(group, 'host'),\n",
    "        port = reader.get(group, 'port'),\n",
    "        dbname = reader.get(group, 'database')\n",
    "    )\n",
    "    engine = sqlalchemy.create_engine(connection_string)\n",
    "    return engine"
   ]
  },
  {
   "cell_type": "code",
   "execution_count": 8,
   "metadata": {
    "collapsed": true
   },
   "outputs": [],
   "source": [
    "def convert_categorical(data):\n",
    "    binary_cols = set(col for col in data if (data[col].nunique() == 2 and not col.endswith('counts')))\n",
    "    string_cols = set(col for col in data if data[col].dtype == 'O')\n",
    "    categoricals = binary_cols.union(string_cols)\n",
    "    categoricals.add('appl_year')\n",
    "    data_categorical = data.astype({col: 'category' for col in categoricals})\n",
    "    return data_categorical"
   ]
  },
  {
   "cell_type": "markdown",
   "metadata": {},
   "source": [
    "## Connect to database"
   ]
  },
  {
   "cell_type": "code",
   "execution_count": 9,
   "metadata": {
    "collapsed": false
   },
   "outputs": [],
   "source": [
    "group = 'edu_db_owner'\n",
    "credentials_path = '/Volumes/IIME/EDS/data/admissions/db_credentials'\n",
    "\n",
    "engine = connect_to_database(credentials_path, group)"
   ]
  },
  {
   "cell_type": "code",
   "execution_count": 10,
   "metadata": {
    "collapsed": false
   },
   "outputs": [],
   "source": [
    "tbl_name = 'grades_gpa_mcat_other_features'\n",
    "get_table = 'select * from deidentified$model_data${}'.format(tbl_name)\n",
    "\n",
    "model_matrix = pd.read_sql_query(get_table, engine)\n",
    "model_matrix = model_matrix.set_index('study_id')"
   ]
  },
  {
   "cell_type": "code",
   "execution_count": 11,
   "metadata": {
    "collapsed": false
   },
   "outputs": [
    {
     "data": {
      "text/plain": [
       "(1218, 54)"
      ]
     },
     "execution_count": 11,
     "metadata": {},
     "output_type": "execute_result"
    }
   ],
   "source": [
    "model_matrix.shape"
   ]
  },
  {
   "cell_type": "markdown",
   "metadata": {},
   "source": [
    "## Prepare data for modeling"
   ]
  },
  {
   "cell_type": "code",
   "execution_count": 54,
   "metadata": {
    "collapsed": true
   },
   "outputs": [],
   "source": [
    "model_matrix = model_matrix.astype({'appl_year': int})\n",
    "model_matrix = convert_categorical(model_matrix)"
   ]
  },
  {
   "cell_type": "code",
   "execution_count": 56,
   "metadata": {
    "collapsed": false,
    "scrolled": true
   },
   "outputs": [
    {
     "data": {
      "text/plain": [
       "appl_year                        category\n",
       "outcome                          category\n",
       "bcpm_gpa_cumulative               float64\n",
       "bcpm_hours_cumulative             float64\n",
       "total_gpa_cumulative              float64\n",
       "bcpm_gpa_postbac                  float64\n",
       "bcpm_hours_postbac                float64\n",
       "total_gpa_postbac                 float64\n",
       "total_gpa_soph_higher            category\n",
       "total_gpa_juni_higher            category\n",
       "total_gpa_seni_higher            category\n",
       "bcmp_gpa_soph_higher             category\n",
       "bcmp_gpa_juni_higher             category\n",
       "bcmp_gpa_seni_higher             category\n",
       "did_postbac                      category\n",
       "attended_grad_school             category\n",
       "bcpm_a_counts                     float64\n",
       "bcpm_b_counts                     float64\n",
       "bcpm_c_counts                     float64\n",
       "bcpm_d_counts                     float64\n",
       "bcpm_f_counts                     float64\n",
       "math_a_counts                     float64\n",
       "math_b_counts                     float64\n",
       "math_c_counts                     float64\n",
       "math_d_counts                     float64\n",
       "math_f_counts                     float64\n",
       "biol_a_counts                     float64\n",
       "biol_b_counts                     float64\n",
       "biol_c_counts                     float64\n",
       "biol_d_counts                     float64\n",
       "biol_f_counts                     float64\n",
       "chem_a_counts                     float64\n",
       "chem_b_counts                     float64\n",
       "chem_c_counts                     float64\n",
       "chem_d_counts                     float64\n",
       "chem_f_counts                     float64\n",
       "phys_a_counts                     float64\n",
       "phys_b_counts                     float64\n",
       "phys_c_counts                     float64\n",
       "phys_d_counts                     float64\n",
       "phys_f_counts                     float64\n",
       "total_percentile                  float64\n",
       "bio_percentile                    float64\n",
       "phy_chem_percentile               float64\n",
       "mcat_type                        category\n",
       "count_mcat                        float64\n",
       "gender                           category\n",
       "age_at_application                float64\n",
       "college_top_25                   category\n",
       "is_disadvantaged                 category\n",
       "urm                              category\n",
       "advanced_degree                  category\n",
       "race                             category\n",
       "total_num_schools_accepted_to     float64\n",
       "dtype: object"
      ]
     },
     "execution_count": 56,
     "metadata": {},
     "output_type": "execute_result"
    }
   ],
   "source": [
    "model_matrix.dtypes"
   ]
  },
  {
   "cell_type": "code",
   "execution_count": 57,
   "metadata": {
    "collapsed": false
   },
   "outputs": [],
   "source": [
    "X, y = model_matrix.drop('outcome', axis = 1), model_matrix.outcome"
   ]
  },
  {
   "cell_type": "code",
   "execution_count": 58,
   "metadata": {
    "collapsed": false
   },
   "outputs": [],
   "source": [
    "X_train, X_test, y_train, y_test = train_test_split(X, y, \n",
    "                                    test_size=0.20, random_state=1100)"
   ]
  },
  {
   "cell_type": "code",
   "execution_count": 103,
   "metadata": {
    "collapsed": true
   },
   "outputs": [],
   "source": [
    "y_train, y_test = y_train.astype(int), y_test.astype(int)"
   ]
  },
  {
   "cell_type": "code",
   "execution_count": 84,
   "metadata": {
    "collapsed": false
   },
   "outputs": [],
   "source": [
    "class DummyEncoder(sklearn.base.BaseEstimator, TransformerMixin):\n",
    "\n",
    "    def __init__(self, columns=None):\n",
    "        self.columns = columns\n",
    "\n",
    "    def transform(self, X, y=None, **kwargs):\n",
    "        return pd.get_dummies(X, columns = self.columns, \n",
    "            drop_first = True, dummy_na = True)\n",
    "\n",
    "    def fit(self, X, y=None, **kwargs):\n",
    "        return self"
   ]
  },
  {
   "cell_type": "code",
   "execution_count": 85,
   "metadata": {
    "collapsed": false
   },
   "outputs": [
    {
     "data": {
      "text/plain": [
       "array([ True,  True,  True,  True,  True,  True,  True,  True,  True,\n",
       "        True,  True,  True,  True,  True,  True,  True,  True,  True,\n",
       "        True,  True,  True,  True,  True,  True,  True,  True,  True,\n",
       "        True,  True,  True,  True,  True,  True,  True,  True,  True,\n",
       "        True,  True,  True,  True,  True,  True,  True,  True,  True,\n",
       "        True,  True,  True,  True,  True,  True,  True,  True,  True,\n",
       "        True,  True,  True,  True,  True,  True,  True,  True,  True,\n",
       "        True,  True,  True,  True,  True,  True,  True,  True,  True,\n",
       "        True,  True,  True,  True,  True,  True,  True,  True,  True,\n",
       "        True,  True,  True,  True,  True,  True], dtype=bool)"
      ]
     },
     "execution_count": 85,
     "metadata": {},
     "output_type": "execute_result"
    }
   ],
   "source": [
    "enc = DummyEncoder().fit(X_train)\n",
    "X_train_transformed = enc.transform(X_train)\n",
    "X_test_transformed = enc.transform(X_test)\n",
    "X_train_transformed.columns == X_test_transformed.columns"
   ]
  },
  {
   "cell_type": "code",
   "execution_count": 105,
   "metadata": {
    "collapsed": false
   },
   "outputs": [],
   "source": [
    "param_grid = dict(\n",
    "    imputer__strategy= ['mean', 'median'],\n",
    "    randomforestclassifier__n_estimators= [10, 50, 100, 200, 500, 1000],\n",
    "    randomforestclassifier__max_depth= [1, 5, 10, 20, 50],\n",
    "    randomforestclassifier__max_features= ['sqrt', 'log2'],\n",
    "    randomforestclassifier__min_samples_split= [2, 5, 10])"
   ]
  },
  {
   "cell_type": "code",
   "execution_count": 106,
   "metadata": {
    "collapsed": true
   },
   "outputs": [],
   "source": [
    "pipeline = make_pipeline(DummyEncoder(), preprocessing.Imputer(), ensemble.RandomForestClassifier())"
   ]
  },
  {
   "cell_type": "code",
   "execution_count": 107,
   "metadata": {
    "collapsed": true
   },
   "outputs": [],
   "source": [
    "grid_search = GridSearchCV(pipeline, param_grid = param_grid)"
   ]
  },
  {
   "cell_type": "code",
   "execution_count": 109,
   "metadata": {
    "collapsed": false
   },
   "outputs": [
    {
     "data": {
      "text/plain": [
       "GridSearchCV(cv=None, error_score='raise',\n",
       "       estimator=Pipeline(steps=[('dummyencoder', DummyEncoder(columns=None)), ('imputer', Imputer(axis=0, copy=True, missing_values='NaN', strategy='mean', verbose=0)), ('randomforestclassifier', RandomForestClassifier(bootstrap=True, class_weight=None, criterion='gini',\n",
       "            max_depth=None, max_features='auto', max_...imators=10, n_jobs=1, oob_score=False, random_state=None,\n",
       "            verbose=0, warm_start=False))]),\n",
       "       fit_params={}, iid=True, n_jobs=1,\n",
       "       param_grid={'imputer__strategy': ['mean', 'median'], 'randomforestclassifier__n_estimators': [10, 50], 'randomforestclassifier__max_depth': [1, 5, 10], 'randomforestclassifier__max_features': ['sqrt', 'log2'], 'randomforestclassifier__min_samples_split': [2, 5, 10]},\n",
       "       pre_dispatch='2*n_jobs', refit=True, return_train_score=True,\n",
       "       scoring=None, verbose=0)"
      ]
     },
     "execution_count": 109,
     "metadata": {},
     "output_type": "execute_result"
    }
   ],
   "source": [
    "grid_search.fit(X_train, y_train)"
   ]
  },
  {
   "cell_type": "code",
   "execution_count": 110,
   "metadata": {
    "collapsed": true
   },
   "outputs": [],
   "source": [
    "risk_scores = grid_search.predict_proba(X_test)"
   ]
  },
  {
   "cell_type": "code",
   "execution_count": 111,
   "metadata": {
    "collapsed": false
   },
   "outputs": [
    {
     "data": {
      "text/plain": [
       "array([[ 0.82945488,  0.17054512],\n",
       "       [ 0.89620346,  0.10379654],\n",
       "       [ 0.69122297,  0.30877703],\n",
       "       [ 0.85594843,  0.14405157],\n",
       "       [ 0.88736849,  0.11263151],\n",
       "       [ 0.76004979,  0.23995021],\n",
       "       [ 0.74404827,  0.25595173],\n",
       "       [ 0.70833333,  0.29166667],\n",
       "       [ 0.84612475,  0.15387525],\n",
       "       [ 0.63421471,  0.36578529],\n",
       "       [ 0.86255405,  0.13744595],\n",
       "       [ 0.94646244,  0.05353756],\n",
       "       [ 0.78544214,  0.21455786],\n",
       "       [ 0.85716352,  0.14283648],\n",
       "       [ 0.84391661,  0.15608339],\n",
       "       [ 0.88861368,  0.11138632],\n",
       "       [ 0.85700601,  0.14299399],\n",
       "       [ 0.82895718,  0.17104282],\n",
       "       [ 0.80509543,  0.19490457],\n",
       "       [ 0.86301691,  0.13698309],\n",
       "       [ 0.82641843,  0.17358157],\n",
       "       [ 0.76176565,  0.23823435],\n",
       "       [ 0.83501503,  0.16498497],\n",
       "       [ 0.86878473,  0.13121527],\n",
       "       [ 0.76315998,  0.23684002],\n",
       "       [ 0.92517513,  0.07482487],\n",
       "       [ 0.89244626,  0.10755374],\n",
       "       [ 0.92082583,  0.07917417],\n",
       "       [ 0.87875   ,  0.12125   ],\n",
       "       [ 0.8394958 ,  0.1605042 ],\n",
       "       [ 0.8684672 ,  0.1315328 ],\n",
       "       [ 0.97586207,  0.02413793],\n",
       "       [ 0.93257564,  0.06742436],\n",
       "       [ 0.78203297,  0.21796703],\n",
       "       [ 0.81265372,  0.18734628],\n",
       "       [ 0.79499169,  0.20500831],\n",
       "       [ 0.8478893 ,  0.1521107 ],\n",
       "       [ 0.89795033,  0.10204967],\n",
       "       [ 0.86712948,  0.13287052],\n",
       "       [ 0.74276873,  0.25723127],\n",
       "       [ 0.68745334,  0.31254666],\n",
       "       [ 0.75984367,  0.24015633],\n",
       "       [ 0.87936919,  0.12063081],\n",
       "       [ 0.81289357,  0.18710643],\n",
       "       [ 0.80518581,  0.19481419],\n",
       "       [ 0.85697529,  0.14302471],\n",
       "       [ 0.80715846,  0.19284154],\n",
       "       [ 0.90469461,  0.09530539],\n",
       "       [ 0.87177192,  0.12822808],\n",
       "       [ 0.60842229,  0.39157771],\n",
       "       [ 0.94580535,  0.05419465],\n",
       "       [ 0.79903589,  0.20096411],\n",
       "       [ 0.79329818,  0.20670182],\n",
       "       [ 0.96261522,  0.03738478],\n",
       "       [ 0.87552941,  0.12447059],\n",
       "       [ 0.88031807,  0.11968193],\n",
       "       [ 0.74297691,  0.25702309],\n",
       "       [ 0.9323764 ,  0.0676236 ],\n",
       "       [ 0.83316742,  0.16683258],\n",
       "       [ 0.69219256,  0.30780744],\n",
       "       [ 0.74194467,  0.25805533],\n",
       "       [ 0.94206537,  0.05793463],\n",
       "       [ 0.86597842,  0.13402158],\n",
       "       [ 0.9580657 ,  0.0419343 ],\n",
       "       [ 0.76294279,  0.23705721],\n",
       "       [ 0.72036514,  0.27963486],\n",
       "       [ 0.89580103,  0.10419897],\n",
       "       [ 0.80991327,  0.19008673],\n",
       "       [ 0.88252848,  0.11747152],\n",
       "       [ 0.87896105,  0.12103895],\n",
       "       [ 0.87424062,  0.12575938],\n",
       "       [ 0.85846606,  0.14153394],\n",
       "       [ 0.75564362,  0.24435638],\n",
       "       [ 0.93531638,  0.06468362],\n",
       "       [ 0.69819799,  0.30180201],\n",
       "       [ 0.93721509,  0.06278491],\n",
       "       [ 0.69686579,  0.30313421],\n",
       "       [ 0.86774481,  0.13225519],\n",
       "       [ 0.79912763,  0.20087237],\n",
       "       [ 0.94817153,  0.05182847],\n",
       "       [ 0.990625  ,  0.009375  ],\n",
       "       [ 0.93734113,  0.06265887],\n",
       "       [ 0.81037799,  0.18962201],\n",
       "       [ 0.89191514,  0.10808486],\n",
       "       [ 0.896753  ,  0.103247  ],\n",
       "       [ 0.87699986,  0.12300014],\n",
       "       [ 0.89788034,  0.10211966],\n",
       "       [ 0.96288988,  0.03711012],\n",
       "       [ 0.94742239,  0.05257761],\n",
       "       [ 0.80440589,  0.19559411],\n",
       "       [ 0.97594292,  0.02405708],\n",
       "       [ 0.9180865 ,  0.0819135 ],\n",
       "       [ 0.94514612,  0.05485388],\n",
       "       [ 0.64348481,  0.35651519],\n",
       "       [ 0.88914054,  0.11085946],\n",
       "       [ 0.85981311,  0.14018689],\n",
       "       [ 0.82150098,  0.17849902],\n",
       "       [ 0.807518  ,  0.192482  ],\n",
       "       [ 0.82522523,  0.17477477],\n",
       "       [ 0.94465637,  0.05534363],\n",
       "       [ 0.6891449 ,  0.3108551 ],\n",
       "       [ 0.77765145,  0.22234855],\n",
       "       [ 0.84250205,  0.15749795],\n",
       "       [ 0.80706846,  0.19293154],\n",
       "       [ 0.90576773,  0.09423227],\n",
       "       [ 0.9315425 ,  0.0684575 ],\n",
       "       [ 0.94838457,  0.05161543],\n",
       "       [ 0.82381348,  0.17618652],\n",
       "       [ 0.93625703,  0.06374297],\n",
       "       [ 0.91823864,  0.08176136],\n",
       "       [ 0.8194757 ,  0.1805243 ],\n",
       "       [ 0.91356019,  0.08643981],\n",
       "       [ 0.78636225,  0.21363775],\n",
       "       [ 0.82145454,  0.17854546],\n",
       "       [ 0.7788366 ,  0.2211634 ],\n",
       "       [ 0.66545809,  0.33454191],\n",
       "       [ 0.92023888,  0.07976112],\n",
       "       [ 0.86043114,  0.13956886],\n",
       "       [ 0.7565601 ,  0.2434399 ],\n",
       "       [ 0.81700441,  0.18299559],\n",
       "       [ 0.94166151,  0.05833849],\n",
       "       [ 0.78775816,  0.21224184],\n",
       "       [ 0.89843552,  0.10156448],\n",
       "       [ 0.89905873,  0.10094127],\n",
       "       [ 0.92495673,  0.07504327],\n",
       "       [ 0.93992484,  0.06007516],\n",
       "       [ 0.7826839 ,  0.2173161 ],\n",
       "       [ 0.93577291,  0.06422709],\n",
       "       [ 0.78780901,  0.21219099],\n",
       "       [ 0.86254509,  0.13745491],\n",
       "       [ 0.88757922,  0.11242078],\n",
       "       [ 0.89658867,  0.10341133],\n",
       "       [ 0.94966142,  0.05033858],\n",
       "       [ 0.86079739,  0.13920261],\n",
       "       [ 0.9092269 ,  0.0907731 ],\n",
       "       [ 0.8683572 ,  0.1316428 ],\n",
       "       [ 0.63509643,  0.36490357],\n",
       "       [ 0.83640448,  0.16359552],\n",
       "       [ 0.83781817,  0.16218183],\n",
       "       [ 0.84398668,  0.15601332],\n",
       "       [ 0.80078684,  0.19921316],\n",
       "       [ 0.66714851,  0.33285149],\n",
       "       [ 0.85475749,  0.14524251],\n",
       "       [ 0.98113044,  0.01886956],\n",
       "       [ 0.70609721,  0.29390279],\n",
       "       [ 0.90985327,  0.09014673],\n",
       "       [ 0.76029412,  0.23970588],\n",
       "       [ 0.58164956,  0.41835044],\n",
       "       [ 0.86513979,  0.13486021],\n",
       "       [ 0.94395658,  0.05604342],\n",
       "       [ 0.86790473,  0.13209527],\n",
       "       [ 0.78808731,  0.21191269],\n",
       "       [ 0.95687817,  0.04312183],\n",
       "       [ 0.83298634,  0.16701366],\n",
       "       [ 0.93021989,  0.06978011],\n",
       "       [ 0.87643425,  0.12356575],\n",
       "       [ 0.9488703 ,  0.0511297 ],\n",
       "       [ 0.85029042,  0.14970958],\n",
       "       [ 0.69435075,  0.30564925],\n",
       "       [ 0.91162003,  0.08837997],\n",
       "       [ 0.6947351 ,  0.3052649 ],\n",
       "       [ 0.84835696,  0.15164304],\n",
       "       [ 0.96941219,  0.03058781],\n",
       "       [ 0.74444718,  0.25555282],\n",
       "       [ 0.87223546,  0.12776454],\n",
       "       [ 0.80437194,  0.19562806],\n",
       "       [ 0.76695229,  0.23304771],\n",
       "       [ 0.66493327,  0.33506673],\n",
       "       [ 0.95604376,  0.04395624],\n",
       "       [ 0.95474049,  0.04525951],\n",
       "       [ 0.93399717,  0.06600283],\n",
       "       [ 0.89095141,  0.10904859],\n",
       "       [ 0.73996546,  0.26003454],\n",
       "       [ 0.94352752,  0.05647248],\n",
       "       [ 0.98023107,  0.01976893],\n",
       "       [ 0.70635063,  0.29364937],\n",
       "       [ 0.85524473,  0.14475527],\n",
       "       [ 0.9049923 ,  0.0950077 ],\n",
       "       [ 0.77676707,  0.22323293],\n",
       "       [ 0.8735483 ,  0.1264517 ],\n",
       "       [ 0.79211624,  0.20788376],\n",
       "       [ 0.89794895,  0.10205105],\n",
       "       [ 0.9089191 ,  0.0910809 ],\n",
       "       [ 0.88855517,  0.11144483],\n",
       "       [ 0.9182358 ,  0.0817642 ],\n",
       "       [ 0.94839754,  0.05160246],\n",
       "       [ 0.78967522,  0.21032478],\n",
       "       [ 0.9332979 ,  0.0667021 ],\n",
       "       [ 0.78830478,  0.21169522],\n",
       "       [ 0.88607885,  0.11392115],\n",
       "       [ 0.88688099,  0.11311901],\n",
       "       [ 0.72512738,  0.27487262],\n",
       "       [ 0.73856444,  0.26143556],\n",
       "       [ 0.87471993,  0.12528007],\n",
       "       [ 0.925     ,  0.075     ],\n",
       "       [ 0.91499451,  0.08500549],\n",
       "       [ 0.77981052,  0.22018948],\n",
       "       [ 0.78083333,  0.21916667],\n",
       "       [ 0.89902155,  0.10097845],\n",
       "       [ 0.60959817,  0.39040183],\n",
       "       [ 0.55995398,  0.44004602],\n",
       "       [ 0.77116092,  0.22883908],\n",
       "       [ 0.88055906,  0.11944094],\n",
       "       [ 0.82919855,  0.17080145],\n",
       "       [ 0.84583333,  0.15416667],\n",
       "       [ 0.83598963,  0.16401037],\n",
       "       [ 0.5751004 ,  0.4248996 ],\n",
       "       [ 0.87251584,  0.12748416],\n",
       "       [ 0.85968475,  0.14031525],\n",
       "       [ 0.85473355,  0.14526645],\n",
       "       [ 0.72993156,  0.27006844],\n",
       "       [ 0.91810538,  0.08189462],\n",
       "       [ 0.76777074,  0.23222926],\n",
       "       [ 0.69887779,  0.30112221],\n",
       "       [ 0.83183304,  0.16816696],\n",
       "       [ 0.77521513,  0.22478487],\n",
       "       [ 0.59012509,  0.40987491],\n",
       "       [ 0.94159941,  0.05840059],\n",
       "       [ 0.89514612,  0.10485388],\n",
       "       [ 0.83240834,  0.16759166],\n",
       "       [ 0.91674837,  0.08325163],\n",
       "       [ 0.85745891,  0.14254109],\n",
       "       [ 0.7008383 ,  0.2991617 ],\n",
       "       [ 0.67729744,  0.32270256],\n",
       "       [ 0.78846158,  0.21153842],\n",
       "       [ 0.82333333,  0.17666667],\n",
       "       [ 0.87125677,  0.12874323],\n",
       "       [ 0.75638975,  0.24361025],\n",
       "       [ 0.79704578,  0.20295422],\n",
       "       [ 0.95928831,  0.04071169],\n",
       "       [ 0.72663207,  0.27336793],\n",
       "       [ 0.74798775,  0.25201225],\n",
       "       [ 0.86607472,  0.13392528],\n",
       "       [ 0.99118839,  0.00881161],\n",
       "       [ 0.73288905,  0.26711095],\n",
       "       [ 0.79238273,  0.20761727],\n",
       "       [ 0.94351146,  0.05648854],\n",
       "       [ 0.89079862,  0.10920138],\n",
       "       [ 0.72845122,  0.27154878],\n",
       "       [ 0.93659299,  0.06340701],\n",
       "       [ 0.81979034,  0.18020966],\n",
       "       [ 0.764961  ,  0.235039  ],\n",
       "       [ 0.86973242,  0.13026758],\n",
       "       [ 0.82814226,  0.17185774]])"
      ]
     },
     "execution_count": 111,
     "metadata": {},
     "output_type": "execute_result"
    }
   ],
   "source": [
    "risk_scores"
   ]
  },
  {
   "cell_type": "code",
   "execution_count": null,
   "metadata": {
    "collapsed": true
   },
   "outputs": [],
   "source": []
  }
 ],
 "metadata": {
  "kernelspec": {
   "display_name": "Environment (conda_edu_analytics)",
   "language": "python",
   "name": "conda_edu_analytics"
  },
  "language_info": {
   "codemirror_mode": {
    "name": "ipython",
    "version": 3
   },
   "file_extension": ".py",
   "mimetype": "text/x-python",
   "name": "python",
   "nbconvert_exporter": "python",
   "pygments_lexer": "ipython3",
   "version": "3.6.0"
  }
 },
 "nbformat": 4,
 "nbformat_minor": 2
}
