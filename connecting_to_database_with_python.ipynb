{
 "cells": [
  {
   "cell_type": "markdown",
   "metadata": {},
   "source": [
    "## Imports"
   ]
  },
  {
   "cell_type": "code",
   "execution_count": 2,
   "metadata": {
    "collapsed": false
   },
   "outputs": [],
   "source": [
    "import eduanalytics\n",
    "from eduanalytics import model_data\n",
    "from eduanalytics import pipeline_tools\n",
    "from eduanalytics import reporting"
   ]
  },
  {
   "cell_type": "code",
   "execution_count": 3,
   "metadata": {
    "collapsed": true
   },
   "outputs": [],
   "source": [
    "import re, os, sys\n",
    "import importlib\n",
    "import pandas as pd\n",
    "import numpy as np\n",
    "import matplotlib.pyplot as plt\n",
    "import sklearn\n",
    "\n",
    "from sklearn.pipeline import make_pipeline\n",
    "from sklearn import ensemble, linear_model, metrics, preprocessing\n",
    "from sklearn.model_selection import GridSearchCV"
   ]
  },
  {
   "cell_type": "markdown",
   "metadata": {},
   "source": [
    "## Explore results"
   ]
  },
  {
   "cell_type": "code",
   "execution_count": 5,
   "metadata": {
    "collapsed": false
   },
   "outputs": [],
   "source": [
    "path = eduanalytics.credentials_path\n",
    "group = eduanalytics.credentials_group\n",
    "\n",
    "engine = model_data.connect_to_database(path, group)"
   ]
  },
  {
   "cell_type": "code",
   "execution_count": 6,
   "metadata": {
    "collapsed": true
   },
   "outputs": [],
   "source": [
    "tbl_name = 'aoa_admissions_inschool'"
   ]
  },
  {
   "cell_type": "code",
   "execution_count": 9,
   "metadata": {
    "collapsed": false
   },
   "outputs": [],
   "source": [
    "results = model_data.get_data_for_modeling(engine, \n",
    "            tbl_name, status = 'predictions')"
   ]
  },
  {
   "cell_type": "code",
   "execution_count": 10,
   "metadata": {
    "collapsed": false
   },
   "outputs": [
    {
     "data": {
      "text/html": [
       "<div>\n",
       "<table border=\"1\" class=\"dataframe\">\n",
       "  <thead>\n",
       "    <tr style=\"text-align: right;\">\n",
       "      <th></th>\n",
       "      <th>appl_year</th>\n",
       "      <th>true</th>\n",
       "      <th>predicted</th>\n",
       "    </tr>\n",
       "    <tr>\n",
       "      <th>study_id</th>\n",
       "      <th></th>\n",
       "      <th></th>\n",
       "      <th></th>\n",
       "    </tr>\n",
       "  </thead>\n",
       "  <tbody>\n",
       "    <tr>\n",
       "      <th>5a6c851c22332c6f188078b6f1730f76</th>\n",
       "      <td>2006</td>\n",
       "      <td>0</td>\n",
       "      <td>0.110</td>\n",
       "    </tr>\n",
       "    <tr>\n",
       "      <th>d19d8d9e5cd78c1501347c83aae0b43a</th>\n",
       "      <td>2006</td>\n",
       "      <td>0</td>\n",
       "      <td>0.050</td>\n",
       "    </tr>\n",
       "    <tr>\n",
       "      <th>465e3eec971f30ced8cacbfd80fd21aa</th>\n",
       "      <td>2006</td>\n",
       "      <td>0</td>\n",
       "      <td>0.075</td>\n",
       "    </tr>\n",
       "    <tr>\n",
       "      <th>42f8cf7b0668a2deb382de854c86b956</th>\n",
       "      <td>2006</td>\n",
       "      <td>0</td>\n",
       "      <td>0.075</td>\n",
       "    </tr>\n",
       "    <tr>\n",
       "      <th>e6e47e73b1431fe778cbdfc2cb7b69d1</th>\n",
       "      <td>2006</td>\n",
       "      <td>0</td>\n",
       "      <td>0.045</td>\n",
       "    </tr>\n",
       "    <tr>\n",
       "      <th>75fd0af98173ac01401a3aa8b5978ceb</th>\n",
       "      <td>2006</td>\n",
       "      <td>0</td>\n",
       "      <td>0.070</td>\n",
       "    </tr>\n",
       "    <tr>\n",
       "      <th>07941dec4f8ec640d7a92b2c9119c536</th>\n",
       "      <td>2006</td>\n",
       "      <td>0</td>\n",
       "      <td>0.020</td>\n",
       "    </tr>\n",
       "    <tr>\n",
       "      <th>58abcab75b0b141bf630f55db5a7ecc8</th>\n",
       "      <td>2007</td>\n",
       "      <td>0</td>\n",
       "      <td>0.120</td>\n",
       "    </tr>\n",
       "    <tr>\n",
       "      <th>4f8917b684c58092386d2a12696f09c4</th>\n",
       "      <td>2006</td>\n",
       "      <td>0</td>\n",
       "      <td>0.030</td>\n",
       "    </tr>\n",
       "    <tr>\n",
       "      <th>a26930c9d288fc72c66b26810c6fb3c0</th>\n",
       "      <td>2006</td>\n",
       "      <td>1</td>\n",
       "      <td>0.230</td>\n",
       "    </tr>\n",
       "    <tr>\n",
       "      <th>857121aa7c9b5b9d0a958511e613f0fd</th>\n",
       "      <td>2006</td>\n",
       "      <td>0</td>\n",
       "      <td>0.055</td>\n",
       "    </tr>\n",
       "    <tr>\n",
       "      <th>3db4ab4ee6e456d557ab982c8f66d0a4</th>\n",
       "      <td>2006</td>\n",
       "      <td>0</td>\n",
       "      <td>0.050</td>\n",
       "    </tr>\n",
       "    <tr>\n",
       "      <th>95d631f0e0a239ac707cf4cb19b77abf</th>\n",
       "      <td>2012</td>\n",
       "      <td>1</td>\n",
       "      <td>0.435</td>\n",
       "    </tr>\n",
       "    <tr>\n",
       "      <th>bd51c96e4090edcada938f0c8c31c216</th>\n",
       "      <td>2006</td>\n",
       "      <td>0</td>\n",
       "      <td>0.195</td>\n",
       "    </tr>\n",
       "    <tr>\n",
       "      <th>2b81c470b8564bb359557b2514243660</th>\n",
       "      <td>2006</td>\n",
       "      <td>0</td>\n",
       "      <td>0.125</td>\n",
       "    </tr>\n",
       "    <tr>\n",
       "      <th>79679b2d70bed6bab47f51e520cb4353</th>\n",
       "      <td>2007</td>\n",
       "      <td>0</td>\n",
       "      <td>0.025</td>\n",
       "    </tr>\n",
       "    <tr>\n",
       "      <th>913b09255f8da8c4cb1bad7dd7fe0085</th>\n",
       "      <td>2006</td>\n",
       "      <td>0</td>\n",
       "      <td>0.065</td>\n",
       "    </tr>\n",
       "    <tr>\n",
       "      <th>3705a3321d326a656ed7427b4bc7ffb4</th>\n",
       "      <td>2006</td>\n",
       "      <td>1</td>\n",
       "      <td>0.485</td>\n",
       "    </tr>\n",
       "    <tr>\n",
       "      <th>c46ef361a7f3ba17f55dbfbcfe986b5c</th>\n",
       "      <td>2006</td>\n",
       "      <td>0</td>\n",
       "      <td>0.110</td>\n",
       "    </tr>\n",
       "    <tr>\n",
       "      <th>bfce4276ddb55bd896b72de4a0a4a321</th>\n",
       "      <td>2006</td>\n",
       "      <td>0</td>\n",
       "      <td>0.280</td>\n",
       "    </tr>\n",
       "    <tr>\n",
       "      <th>de208b4ddf658482c546d927b9a95cd0</th>\n",
       "      <td>2006</td>\n",
       "      <td>0</td>\n",
       "      <td>0.015</td>\n",
       "    </tr>\n",
       "    <tr>\n",
       "      <th>e37d320359e6306abc12f1f418b188ba</th>\n",
       "      <td>2006</td>\n",
       "      <td>0</td>\n",
       "      <td>0.230</td>\n",
       "    </tr>\n",
       "    <tr>\n",
       "      <th>4240b462e63b711d29e22930a0a840b6</th>\n",
       "      <td>2006</td>\n",
       "      <td>0</td>\n",
       "      <td>0.090</td>\n",
       "    </tr>\n",
       "    <tr>\n",
       "      <th>2330d5d074d23c52869dfc3d0d9d10f8</th>\n",
       "      <td>2006</td>\n",
       "      <td>0</td>\n",
       "      <td>0.075</td>\n",
       "    </tr>\n",
       "    <tr>\n",
       "      <th>e0aa45d6219c4c52ab202c79ccb28e59</th>\n",
       "      <td>2006</td>\n",
       "      <td>0</td>\n",
       "      <td>0.100</td>\n",
       "    </tr>\n",
       "    <tr>\n",
       "      <th>60354a811b7b8ffa3ba0894098a28e87</th>\n",
       "      <td>2006</td>\n",
       "      <td>1</td>\n",
       "      <td>0.590</td>\n",
       "    </tr>\n",
       "    <tr>\n",
       "      <th>73719c23c1ce2d2d28716a817bca1743</th>\n",
       "      <td>2008</td>\n",
       "      <td>0</td>\n",
       "      <td>0.025</td>\n",
       "    </tr>\n",
       "    <tr>\n",
       "      <th>2b90ae093ce0e33b59f45ac95125239b</th>\n",
       "      <td>2006</td>\n",
       "      <td>0</td>\n",
       "      <td>0.020</td>\n",
       "    </tr>\n",
       "    <tr>\n",
       "      <th>57f877081a37c9a487326abe47a55c1a</th>\n",
       "      <td>2006</td>\n",
       "      <td>0</td>\n",
       "      <td>0.050</td>\n",
       "    </tr>\n",
       "    <tr>\n",
       "      <th>c5251c0d22347b8bae6c0fc942cfd5bf</th>\n",
       "      <td>2006</td>\n",
       "      <td>0</td>\n",
       "      <td>0.030</td>\n",
       "    </tr>\n",
       "    <tr>\n",
       "      <th>...</th>\n",
       "      <td>...</td>\n",
       "      <td>...</td>\n",
       "      <td>...</td>\n",
       "    </tr>\n",
       "    <tr>\n",
       "      <th>d4aca71f6fa3c517238aafbcbd95667a</th>\n",
       "      <td>2012</td>\n",
       "      <td>0</td>\n",
       "      <td>0.285</td>\n",
       "    </tr>\n",
       "    <tr>\n",
       "      <th>e6fa30bea2dc34ac7b7ebf671f58a975</th>\n",
       "      <td>2012</td>\n",
       "      <td>0</td>\n",
       "      <td>0.055</td>\n",
       "    </tr>\n",
       "    <tr>\n",
       "      <th>96735fab6a293b4f45b630452796efe9</th>\n",
       "      <td>2012</td>\n",
       "      <td>0</td>\n",
       "      <td>0.185</td>\n",
       "    </tr>\n",
       "    <tr>\n",
       "      <th>68a6fe48b02dad9f6e49d05168828865</th>\n",
       "      <td>2012</td>\n",
       "      <td>0</td>\n",
       "      <td>0.030</td>\n",
       "    </tr>\n",
       "    <tr>\n",
       "      <th>96632c1991355cdaa95171db2599bb7c</th>\n",
       "      <td>2012</td>\n",
       "      <td>0</td>\n",
       "      <td>0.155</td>\n",
       "    </tr>\n",
       "    <tr>\n",
       "      <th>2ab507c7332c6ba1ab9b53f7d6c0e31f</th>\n",
       "      <td>2013</td>\n",
       "      <td>1</td>\n",
       "      <td>0.175</td>\n",
       "    </tr>\n",
       "    <tr>\n",
       "      <th>49a0f4be14edbfa35a01ecf6fe27f8cc</th>\n",
       "      <td>2012</td>\n",
       "      <td>0</td>\n",
       "      <td>0.095</td>\n",
       "    </tr>\n",
       "    <tr>\n",
       "      <th>44341bd3571bab6377a51703f453de1c</th>\n",
       "      <td>2012</td>\n",
       "      <td>0</td>\n",
       "      <td>0.600</td>\n",
       "    </tr>\n",
       "    <tr>\n",
       "      <th>6fd31de48b3d4227acd3b80562803ac5</th>\n",
       "      <td>2013</td>\n",
       "      <td>0</td>\n",
       "      <td>0.220</td>\n",
       "    </tr>\n",
       "    <tr>\n",
       "      <th>16482b79fa9171d3933eb26dcf26abcb</th>\n",
       "      <td>2013</td>\n",
       "      <td>1</td>\n",
       "      <td>0.505</td>\n",
       "    </tr>\n",
       "    <tr>\n",
       "      <th>f04885d4821ba981a525a3e768044baa</th>\n",
       "      <td>2013</td>\n",
       "      <td>1</td>\n",
       "      <td>0.260</td>\n",
       "    </tr>\n",
       "    <tr>\n",
       "      <th>d34af286fa59598fb0e163592a70993c</th>\n",
       "      <td>2013</td>\n",
       "      <td>0</td>\n",
       "      <td>0.030</td>\n",
       "    </tr>\n",
       "    <tr>\n",
       "      <th>ee7d14cb064ac6fd4aa6cc7a59e43811</th>\n",
       "      <td>2013</td>\n",
       "      <td>0</td>\n",
       "      <td>0.455</td>\n",
       "    </tr>\n",
       "    <tr>\n",
       "      <th>a7889b96084c05552b1b9d40a81ed1b0</th>\n",
       "      <td>2013</td>\n",
       "      <td>1</td>\n",
       "      <td>0.405</td>\n",
       "    </tr>\n",
       "    <tr>\n",
       "      <th>875e6c8557130eaf133a1664f9fa96b5</th>\n",
       "      <td>2013</td>\n",
       "      <td>0</td>\n",
       "      <td>0.600</td>\n",
       "    </tr>\n",
       "    <tr>\n",
       "      <th>7f165edef515fa57cf3320c3716c6265</th>\n",
       "      <td>2013</td>\n",
       "      <td>0</td>\n",
       "      <td>0.055</td>\n",
       "    </tr>\n",
       "    <tr>\n",
       "      <th>ddaebca62d1f5dadf78162f6eee651e1</th>\n",
       "      <td>2013</td>\n",
       "      <td>1</td>\n",
       "      <td>0.415</td>\n",
       "    </tr>\n",
       "    <tr>\n",
       "      <th>578e8a40df1ba743172ee7ca3cd2b5ef</th>\n",
       "      <td>2013</td>\n",
       "      <td>1</td>\n",
       "      <td>0.440</td>\n",
       "    </tr>\n",
       "    <tr>\n",
       "      <th>94b94266a06441b1324ac3808f3e6ae3</th>\n",
       "      <td>2013</td>\n",
       "      <td>0</td>\n",
       "      <td>0.120</td>\n",
       "    </tr>\n",
       "    <tr>\n",
       "      <th>6b10829a27ec80eb64482e6a66a3c704</th>\n",
       "      <td>2013</td>\n",
       "      <td>0</td>\n",
       "      <td>0.080</td>\n",
       "    </tr>\n",
       "    <tr>\n",
       "      <th>e447105c0f2ad52bcac609ca19abb6bf</th>\n",
       "      <td>2013</td>\n",
       "      <td>0</td>\n",
       "      <td>0.090</td>\n",
       "    </tr>\n",
       "    <tr>\n",
       "      <th>c797bfc67a601a0aebfc1a827ac30ceb</th>\n",
       "      <td>2013</td>\n",
       "      <td>0</td>\n",
       "      <td>0.070</td>\n",
       "    </tr>\n",
       "    <tr>\n",
       "      <th>106cfb68c7ead47cf2ac5506786ebbf9</th>\n",
       "      <td>2013</td>\n",
       "      <td>1</td>\n",
       "      <td>0.400</td>\n",
       "    </tr>\n",
       "    <tr>\n",
       "      <th>a2b69ab1223b67c58aea757c6c7d1da5</th>\n",
       "      <td>2013</td>\n",
       "      <td>0</td>\n",
       "      <td>0.330</td>\n",
       "    </tr>\n",
       "    <tr>\n",
       "      <th>29a4254a496ae5048b5cdf62f5bb5cfd</th>\n",
       "      <td>2013</td>\n",
       "      <td>0</td>\n",
       "      <td>0.060</td>\n",
       "    </tr>\n",
       "    <tr>\n",
       "      <th>caff085285ea7cc3167c633ea2b36e19</th>\n",
       "      <td>2013</td>\n",
       "      <td>0</td>\n",
       "      <td>0.140</td>\n",
       "    </tr>\n",
       "    <tr>\n",
       "      <th>7648b18a064491fe6fdc2e904cebda50</th>\n",
       "      <td>2013</td>\n",
       "      <td>0</td>\n",
       "      <td>0.330</td>\n",
       "    </tr>\n",
       "    <tr>\n",
       "      <th>1dd6ccc03a7793a4c279e61504ef4f7c</th>\n",
       "      <td>2013</td>\n",
       "      <td>0</td>\n",
       "      <td>0.120</td>\n",
       "    </tr>\n",
       "    <tr>\n",
       "      <th>02e61be36be50d0b48dc186e885f4cbe</th>\n",
       "      <td>2013</td>\n",
       "      <td>1</td>\n",
       "      <td>0.665</td>\n",
       "    </tr>\n",
       "    <tr>\n",
       "      <th>a44658486e4709986109c4d083fc2910</th>\n",
       "      <td>2013</td>\n",
       "      <td>0</td>\n",
       "      <td>0.075</td>\n",
       "    </tr>\n",
       "  </tbody>\n",
       "</table>\n",
       "<p>244 rows × 3 columns</p>\n",
       "</div>"
      ],
      "text/plain": [
       "                                 appl_year true  predicted\n",
       "study_id                                                  \n",
       "5a6c851c22332c6f188078b6f1730f76      2006    0      0.110\n",
       "d19d8d9e5cd78c1501347c83aae0b43a      2006    0      0.050\n",
       "465e3eec971f30ced8cacbfd80fd21aa      2006    0      0.075\n",
       "42f8cf7b0668a2deb382de854c86b956      2006    0      0.075\n",
       "e6e47e73b1431fe778cbdfc2cb7b69d1      2006    0      0.045\n",
       "75fd0af98173ac01401a3aa8b5978ceb      2006    0      0.070\n",
       "07941dec4f8ec640d7a92b2c9119c536      2006    0      0.020\n",
       "58abcab75b0b141bf630f55db5a7ecc8      2007    0      0.120\n",
       "4f8917b684c58092386d2a12696f09c4      2006    0      0.030\n",
       "a26930c9d288fc72c66b26810c6fb3c0      2006    1      0.230\n",
       "857121aa7c9b5b9d0a958511e613f0fd      2006    0      0.055\n",
       "3db4ab4ee6e456d557ab982c8f66d0a4      2006    0      0.050\n",
       "95d631f0e0a239ac707cf4cb19b77abf      2012    1      0.435\n",
       "bd51c96e4090edcada938f0c8c31c216      2006    0      0.195\n",
       "2b81c470b8564bb359557b2514243660      2006    0      0.125\n",
       "79679b2d70bed6bab47f51e520cb4353      2007    0      0.025\n",
       "913b09255f8da8c4cb1bad7dd7fe0085      2006    0      0.065\n",
       "3705a3321d326a656ed7427b4bc7ffb4      2006    1      0.485\n",
       "c46ef361a7f3ba17f55dbfbcfe986b5c      2006    0      0.110\n",
       "bfce4276ddb55bd896b72de4a0a4a321      2006    0      0.280\n",
       "de208b4ddf658482c546d927b9a95cd0      2006    0      0.015\n",
       "e37d320359e6306abc12f1f418b188ba      2006    0      0.230\n",
       "4240b462e63b711d29e22930a0a840b6      2006    0      0.090\n",
       "2330d5d074d23c52869dfc3d0d9d10f8      2006    0      0.075\n",
       "e0aa45d6219c4c52ab202c79ccb28e59      2006    0      0.100\n",
       "60354a811b7b8ffa3ba0894098a28e87      2006    1      0.590\n",
       "73719c23c1ce2d2d28716a817bca1743      2008    0      0.025\n",
       "2b90ae093ce0e33b59f45ac95125239b      2006    0      0.020\n",
       "57f877081a37c9a487326abe47a55c1a      2006    0      0.050\n",
       "c5251c0d22347b8bae6c0fc942cfd5bf      2006    0      0.030\n",
       "...                                    ...  ...        ...\n",
       "d4aca71f6fa3c517238aafbcbd95667a      2012    0      0.285\n",
       "e6fa30bea2dc34ac7b7ebf671f58a975      2012    0      0.055\n",
       "96735fab6a293b4f45b630452796efe9      2012    0      0.185\n",
       "68a6fe48b02dad9f6e49d05168828865      2012    0      0.030\n",
       "96632c1991355cdaa95171db2599bb7c      2012    0      0.155\n",
       "2ab507c7332c6ba1ab9b53f7d6c0e31f      2013    1      0.175\n",
       "49a0f4be14edbfa35a01ecf6fe27f8cc      2012    0      0.095\n",
       "44341bd3571bab6377a51703f453de1c      2012    0      0.600\n",
       "6fd31de48b3d4227acd3b80562803ac5      2013    0      0.220\n",
       "16482b79fa9171d3933eb26dcf26abcb      2013    1      0.505\n",
       "f04885d4821ba981a525a3e768044baa      2013    1      0.260\n",
       "d34af286fa59598fb0e163592a70993c      2013    0      0.030\n",
       "ee7d14cb064ac6fd4aa6cc7a59e43811      2013    0      0.455\n",
       "a7889b96084c05552b1b9d40a81ed1b0      2013    1      0.405\n",
       "875e6c8557130eaf133a1664f9fa96b5      2013    0      0.600\n",
       "7f165edef515fa57cf3320c3716c6265      2013    0      0.055\n",
       "ddaebca62d1f5dadf78162f6eee651e1      2013    1      0.415\n",
       "578e8a40df1ba743172ee7ca3cd2b5ef      2013    1      0.440\n",
       "94b94266a06441b1324ac3808f3e6ae3      2013    0      0.120\n",
       "6b10829a27ec80eb64482e6a66a3c704      2013    0      0.080\n",
       "e447105c0f2ad52bcac609ca19abb6bf      2013    0      0.090\n",
       "c797bfc67a601a0aebfc1a827ac30ceb      2013    0      0.070\n",
       "106cfb68c7ead47cf2ac5506786ebbf9      2013    1      0.400\n",
       "a2b69ab1223b67c58aea757c6c7d1da5      2013    0      0.330\n",
       "29a4254a496ae5048b5cdf62f5bb5cfd      2013    0      0.060\n",
       "caff085285ea7cc3167c633ea2b36e19      2013    0      0.140\n",
       "7648b18a064491fe6fdc2e904cebda50      2013    0      0.330\n",
       "1dd6ccc03a7793a4c279e61504ef4f7c      2013    0      0.120\n",
       "02e61be36be50d0b48dc186e885f4cbe      2013    1      0.665\n",
       "a44658486e4709986109c4d083fc2910      2013    0      0.075\n",
       "\n",
       "[244 rows x 3 columns]"
      ]
     },
     "execution_count": 10,
     "metadata": {},
     "output_type": "execute_result"
    }
   ],
   "source": [
    "results"
   ]
  },
  {
   "cell_type": "code",
   "execution_count": null,
   "metadata": {
    "collapsed": true
   },
   "outputs": [],
   "source": [
    "#reporting.load_model('pkls', tbl_name, 'rf_grid')\n",
    "reporting.load_model('pkls', 'AOA', 'with_med_school', 'rf_grid')"
   ]
  },
  {
   "cell_type": "code",
   "execution_count": 12,
   "metadata": {
    "collapsed": true
   },
   "outputs": [],
   "source": [
    "risk_scores = results.predicted\n",
    "hard_predictions = [1 if score >= 0.5 for score in risk_scores else 0]"
   ]
  },
  {
   "cell_type": "code",
   "execution_count": 27,
   "metadata": {
    "collapsed": false
   },
   "outputs": [],
   "source": [
    "percentages = [15, 20]\n",
    "hard_predictions_t1 = reporting.generate_binary_at_k(risk_scores, percentages[0])\n",
    "hard_predictions_t2 = reporting.generate_binary_at_k(risk_scores, percentages[1])"
   ]
  },
  {
   "cell_type": "code",
   "execution_count": 28,
   "metadata": {
    "collapsed": false
   },
   "outputs": [
    {
     "data": {
      "image/png": "[encoded data removed]",
      "text/plain": [
       "<matplotlib.figure.Figure at 0x10264eeb8>"
      ]
     },
     "metadata": {},
     "output_type": "display_data"
    },
    {
     "data": {
      "image/png": "[encoded data removed]",
      "text/plain": [
       "<matplotlib.figure.Figure at 0x1115bfda0>"
      ]
     },
     "metadata": {},
     "output_type": "display_data"
    },
    {
     "data": {
      "image/png": "[encoded data removed]",
      "text/plain": [
       "<matplotlib.figure.Figure at 0x111679470>"
      ]
     },
     "metadata": {},
     "output_type": "display_data"
    }
   ],
   "source": [
    "# Compute confusion matrix\n",
    "class_names = ['not AOA', 'AOA']\n",
    "\n",
    "labels = ['.50 threshold', 'top {}%'.format(percentages[0]), 'top {}%'.format(percentages[1])]\n",
    "plots = zip([hard_predictions, hard_predictions_t1, hard_predictions_t2], labels)\n",
    "title = class_names[1]\n",
    "\n",
    "# Plot confusion matrix with counts\n",
    "for predictions, label in plots:\n",
    "    plt.figure()\n",
    "    reporting.build_confusion_matrix(\n",
    "    y_test, predictions, \n",
    "    class_names, \n",
    "    '{}: {}'.format(title, label))\n",
    "\n",
    "plt.show()"
   ]
  },
  {
   "cell_type": "code",
   "execution_count": 29,
   "metadata": {
    "collapsed": false
   },
   "outputs": [
    {
     "name": "stdout",
     "output_type": "stream",
     "text": [
      "<class 'sklearn.ensemble.forest.RandomForestClassifier'>\n"
     ]
    }
   ],
   "source": [
    "forest = pipeline_tools.extract_model_from_pipeline(grid_search)\n",
    "print(type(forest))"
   ]
  },
  {
   "cell_type": "code",
   "execution_count": 30,
   "metadata": {
    "collapsed": false
   },
   "outputs": [],
   "source": [
    "transformed_columns = pipeline_tools.get_transformed_columns(grid_search)"
   ]
  },
  {
   "cell_type": "code",
   "execution_count": 31,
   "metadata": {
    "collapsed": false,
    "scrolled": true
   },
   "outputs": [
    {
     "name": "stdout",
     "output_type": "stream",
     "text": [
      "1: clerkship_honors_count = 0.267\n",
      "2: shelf_exam_above90_count = 0.071\n",
      "3: school_exam_above90_count = 0.039\n",
      "4: total_percentile = 0.038\n",
      "5: total_gpa_cumulative = 0.035\n",
      "6: bcpm_hours_cumulative = 0.035\n",
      "7: bio_percentile = 0.033\n",
      "8: phy_chem_percentile = 0.033\n",
      "9: bcpm_gpa_cumulative = 0.032\n",
      "10: bcpm_a_counts = 0.026\n",
      "11: biol_a_counts = 0.025\n",
      "12: chem_a_counts = 0.025\n",
      "13: total_num_schools_accepted_to = 0.023\n",
      "14: race_White = 0.022\n",
      "15: age_at_application = 0.020\n",
      "16: bcpm_b_counts = 0.019\n",
      "17: math_a_counts = 0.018\n",
      "18: biol_b_counts = 0.018\n",
      "19: phys_a_counts = 0.016\n",
      "20: chem_b_counts = 0.016\n",
      "21: math_b_counts = 0.009\n",
      "22: college_top_25_1.0 = 0.008\n",
      "23: bcmp_gpa_soph_higher_1.0 = 0.008\n",
      "24: phys_b_counts = 0.008\n",
      "25: bcmp_gpa_juni_higher_1.0 = 0.008\n",
      "26: shelf_exam_below65_count = 0.008\n",
      "27: gender_M = 0.007\n",
      "28: total_gpa_soph_higher_1.0 = 0.007\n",
      "29: appl_year_2011.0 = 0.007\n",
      "30: total_gpa_seni_higher_nan = 0.006\n",
      "31: total_gpa_juni_higher_1.0 = 0.006\n",
      "32: total_gpa_seni_higher_1.0 = 0.006\n",
      "33: appl_year_2013.0 = 0.005\n",
      "34: appl_year_2008.0 = 0.005\n",
      "35: bcmp_gpa_seni_higher_nan = 0.005\n",
      "36: appl_year_2009.0 = 0.005\n",
      "37: count_mcat = 0.005\n",
      "38: total_gpa_postbac = 0.005\n",
      "39: bcpm_hours_postbac = 0.005\n",
      "40: bcpm_gpa_postbac = 0.004\n",
      "41: appl_year_2012.0 = 0.004\n",
      "42: race_nan = 0.004\n",
      "43: appl_year_2007.0 = 0.004\n",
      "44: race_Chinese = 0.004\n",
      "45: bcmp_gpa_seni_higher_1.0 = 0.004\n",
      "46: bcpm_c_counts = 0.004\n",
      "47: appl_year_2010.0 = 0.004\n",
      "48: race_Asian Indian = 0.004\n",
      "49: school_exam_below65_count = 0.004\n",
      "50: bcmp_gpa_juni_higher_nan = 0.003\n",
      "51: bcmp_gpa_soph_higher_nan = 0.003\n",
      "52: chem_c_counts = 0.002\n",
      "53: advanced_degree_Y = 0.002\n",
      "54: attended_grad_school_1.0 = 0.002\n",
      "55: did_postbac_1.0 = 0.002\n",
      "56: is_disadvantaged_1.0 = 0.001\n",
      "57: race_Korean = 0.001\n",
      "58: urm_Y = 0.001\n",
      "59: race_Japanese = 0.001\n",
      "60: race_Asian = 0.001\n",
      "61: biol_c_counts = 0.001\n",
      "62: course_clerkships_failed_count = 0.001\n",
      "63: math_c_counts = 0.001\n",
      "64: race_Other Asian = 0.001\n",
      "65: total_gpa_juni_higher_nan = 0.001\n",
      "66: race_Pakistani = 0.001\n",
      "67: phys_c_counts = 0.001\n",
      "68: mcat_type_nan = 0.001\n",
      "69: total_gpa_soph_higher_nan = 0.000\n",
      "70: race_Black or African American = 0.000\n",
      "71: race_Other Pacific Islander = 0.000\n",
      "72: bcpm_d_counts = 0.000\n",
      "73: race_Other = 0.000\n",
      "74: race_Vietnamese = 0.000\n",
      "75: race_Filipino = 0.000\n",
      "76: math_d_counts = 0.000\n",
      "77: bcpm_f_counts = 0.000\n",
      "78: biol_f_counts = 0.000\n",
      "79: chem_d_counts = 0.000\n",
      "80: biol_d_counts = 0.000\n"
     ]
    }
   ],
   "source": [
    "importances, std, indices = reporting.compute_feature_importances_ensemble(\n",
    "    forest, transformed_columns)"
   ]
  },
  {
   "cell_type": "code",
   "execution_count": null,
   "metadata": {
    "collapsed": true
   },
   "outputs": [],
   "source": [
    "importances"
   ]
  },
  {
   "cell_type": "code",
   "execution_count": 32,
   "metadata": {
    "collapsed": false,
    "scrolled": false
   },
   "outputs": [
    {
     "data": {
      "image/png": "[encoded data removed]",
      "text/plain": [
       "<matplotlib.figure.Figure at 0x101e31160>"
      ]
     },
     "metadata": {},
     "output_type": "display_data"
    }
   ],
   "source": [
    "# Plot the feature importances of the forest\n",
    "plt.figure(figsize=(9,6))\n",
    "reporting.plot_feature_importances(\n",
    "    importances, std, indices, transformed_columns)"
   ]
  },
  {
   "cell_type": "code",
   "execution_count": 35,
   "metadata": {
    "collapsed": false
   },
   "outputs": [
    {
     "data": {
      "text/plain": [
       "<matplotlib.figure.Figure at 0x111b0b3c8>"
      ]
     },
     "metadata": {},
     "output_type": "display_data"
    },
    {
     "data": {
      "image/png": "[encoded data removed]",
      "text/plain": [
       "<matplotlib.figure.Figure at 0x111b13390>"
      ]
     },
     "metadata": {},
     "output_type": "display_data"
    }
   ],
   "source": [
    "outcome = 'AOA'\n",
    "features = 'including med school data'\n",
    "reporting.plot_precision_recall_n(y_test, risk_scores, '{}: {}'.format(outcome, features))"
   ]
  },
  {
   "cell_type": "code",
   "execution_count": null,
   "metadata": {
    "collapsed": true
   },
   "outputs": [],
   "source": [
    "# TODO: Figure out how to output to database\n",
    "# TODO: Figure out sklearn2pmml\n",
    "# TODO: Multiclass classification\n",
    "# TODO: Compare classifiers (logistic regression?)\n",
    "# TODO: Incorporate lime\n",
    "# TODO: Incorporate autosklearn?"
   ]
  }
 ],
 "metadata": {
  "kernelspec": {
   "display_name": "Environment (conda_edu_analytics)",
   "language": "python",
   "name": "conda_edu_analytics"
  }
 },
 "nbformat": 4,
 "nbformat_minor": 2
}
